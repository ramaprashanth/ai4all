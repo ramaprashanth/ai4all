{
 "cells": [
  {
   "cell_type": "markdown",
   "metadata": {},
   "source": [
    "## Flow Control: Fizzbuzz\n",
    "FizzBuzz is a class computer science interview problem. Create a script that completes the following tasks: \n",
    "\n",
    "- Prints numbers from 1 to 100, one number per row\n",
    "- If a number is divisible by 3, print \"Fizz\" (for example, \"3 = Fizz!\"\n",
    "- If a number is divisible by 5, print \"Buzz\"\n",
    "- If a number is divisible by both 3 and 5, print \"FizzBuzz!\"\n",
    "\n",
    "Once you've figured out the basic FizzBuzz logic, turn it into a function that will work for any start and stop number. \n",
    "\n",
    "There are many different ways to approach this problem, but here are a few things to keep in mind: \n",
    "\n",
    "- What function can you use to create a list of numbers within the range of 1 to 100? Is 100 included in that list? \n",
    "- What math operator can you use to tell if a number is divisible by something? \n",
    "- How can you use flow control (if, else) and operators (==, etc.) to deal with this problem? \n",
    "- What order should things happen in to ensure your program checks all the things it needs to, but does so efficiently? \n",
    "\n",
    "## Step 1: Figure out FizzBuzz\n"
   ]
  },
  {
   "cell_type": "markdown",
   "metadata": {},
   "source": [
    "### How do we get a list of numbers in the range of 1 to 100? "
   ]
  },
  {
   "cell_type": "code",
   "execution_count": null,
   "metadata": {},
   "outputs": [],
   "source": []
  },
  {
   "cell_type": "markdown",
   "metadata": {},
   "source": [
    "### How can we tell if a number is odd or even? Can that help us? "
   ]
  },
  {
   "cell_type": "code",
   "execution_count": null,
   "metadata": {},
   "outputs": [],
   "source": []
  },
  {
   "cell_type": "markdown",
   "metadata": {},
   "source": [
    "### If a number is divisible by 3, print \"Fizz\""
   ]
  },
  {
   "cell_type": "code",
   "execution_count": null,
   "metadata": {},
   "outputs": [],
   "source": []
  },
  {
   "cell_type": "markdown",
   "metadata": {},
   "source": [
    "### If a number is divisible by 5, print \"Buzz\""
   ]
  },
  {
   "cell_type": "code",
   "execution_count": null,
   "metadata": {},
   "outputs": [],
   "source": []
  },
  {
   "cell_type": "markdown",
   "metadata": {},
   "source": [
    "### If a number is divisible by 3 and 5, print \"FizzBuzz\""
   ]
  },
  {
   "cell_type": "code",
   "execution_count": null,
   "metadata": {},
   "outputs": [],
   "source": []
  },
  {
   "cell_type": "markdown",
   "metadata": {},
   "source": [
    "### Try this with the numbers 3, 5 and 15 to make sure it works. Do you need to move your statements around? "
   ]
  },
  {
   "cell_type": "code",
   "execution_count": null,
   "metadata": {},
   "outputs": [],
   "source": []
  },
  {
   "cell_type": "markdown",
   "metadata": {},
   "source": [
    "### Put it all together and make it work "
   ]
  },
  {
   "cell_type": "code",
   "execution_count": null,
   "metadata": {},
   "outputs": [],
   "source": []
  },
  {
   "cell_type": "markdown",
   "metadata": {},
   "source": [
    "## Step 2: Turn it into a function\n",
    "Now that you've sorted out the FizzBuzz logic, turn it into a function that, instead of printing numbers from 1 to 100, accepts two arguments: start_number and stop_number. "
   ]
  },
  {
   "cell_type": "code",
   "execution_count": null,
   "metadata": {},
   "outputs": [],
   "source": []
  }
 ],
 "metadata": {
  "kernelspec": {
   "display_name": "Python 3",
   "language": "python",
   "name": "python3"
  },
  "language_info": {
   "codemirror_mode": {
    "name": "ipython",
    "version": 3
   },
   "file_extension": ".py",
   "mimetype": "text/x-python",
   "name": "python",
   "nbconvert_exporter": "python",
   "pygments_lexer": "ipython3",
   "version": "3.5.2"
  }
 },
 "nbformat": 4,
 "nbformat_minor": 2
}
