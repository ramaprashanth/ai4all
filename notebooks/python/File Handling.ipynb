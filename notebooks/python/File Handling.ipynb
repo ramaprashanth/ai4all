{
 "cells": [
  {
   "cell_type": "markdown",
   "metadata": {},
   "source": [
    "# Reading from text files\n",
    "Because text files are platform agnostic (they can be used on any operating system), they are the most common file type that you'll run across. \n",
    "\n",
    "[Download this file](https://ia800301.us.archive.org/13/items/thelandthattimef00551gut/551.txt) by right-clicking on the link, and choosing \"Save As\" to save it as tale_of_two_cities.txt in the same directory as this github repo (it should already be in there, but it's good practice). \n",
    "\n",
    "## Opening a file\n",
    "Before you can read anything from a file, you need to tell python where to find the file by creating a file handle, and then open the file:"
   ]
  },
  {
   "cell_type": "code",
   "execution_count": 5,
   "metadata": {},
   "outputs": [
    {
     "data": {
      "text/plain": [
       "<_io.TextIOWrapper name='./tale_of_two_cities.txt' mode='r' encoding='UTF-8'>"
      ]
     },
     "execution_count": 5,
     "metadata": {},
     "output_type": "execute_result"
    }
   ],
   "source": [
    "f = open(\"./tale_of_two_cities.txt\", \"\")\n",
    "\n",
    "# creates a file handle\n",
    "f"
   ]
  },
  {
   "cell_type": "markdown",
   "metadata": {},
   "source": [
    "This creates what we call a \"file object\", or in many other languages a \"file handle\", and serves as a pointer to where that file is located in memory.  \n",
    "\n",
    "The \"./\" means look in the current directory that your python console was started in.  So if your file is not in that directory, then you need to provide an absolute path to the file location:\n",
    "\n",
    "### Mac/Linux:\n",
    "\n",
    "Your path will look something like: "
   ]
  },
  {
   "cell_type": "code",
   "execution_count": null,
   "metadata": {},
   "outputs": [],
   "source": [
    "/Users/username/Documents/python_bootcamp2018/land_time_forgot.txt"
   ]
  },
  {
   "cell_type": "markdown",
   "metadata": {},
   "source": [
    "### Windows:\n",
    "\n",
    "Your path will look something like"
   ]
  },
  {
   "cell_type": "code",
   "execution_count": null,
   "metadata": {},
   "outputs": [],
   "source": [
    "C:\\Users\\username\\Documents\\python_bootcamp2018\\land_time_forgot.txt"
   ]
  },
  {
   "cell_type": "markdown",
   "metadata": {},
   "source": [
    "## Reading Characters from a File\n",
    "We can start to read from a file using the read() method: "
   ]
  },
  {
   "cell_type": "code",
   "execution_count": 4,
   "metadata": {},
   "outputs": [
    {
     "data": {
      "text/plain": [
       "''"
      ]
     },
     "execution_count": 4,
     "metadata": {},
     "output_type": "execute_result"
    }
   ],
   "source": [
    "# read one character\n",
    "f.read(1)"
   ]
  },
  {
   "cell_type": "code",
   "execution_count": 5,
   "metadata": {},
   "outputs": [
    {
     "data": {
      "text/plain": [
       "\"erg's The La\""
      ]
     },
     "execution_count": 5,
     "metadata": {},
     "output_type": "execute_result"
    }
   ],
   "source": [
    "# read 12 characters\n",
    "f.read(12)"
   ]
  },
  {
   "cell_type": "markdown",
   "metadata": {},
   "source": [
    "Notice that subsequent calls to read() pick up where the last command left off."
   ]
  },
  {
   "cell_type": "markdown",
   "metadata": {},
   "source": [
    "### Going back to the top of the file\n",
    "You can move back to the top of the file using the `seek` command:"
   ]
  },
  {
   "cell_type": "code",
   "execution_count": 6,
   "metadata": {},
   "outputs": [
    {
     "data": {
      "text/plain": [
       "0"
      ]
     },
     "execution_count": 6,
     "metadata": {},
     "output_type": "execute_result"
    }
   ],
   "source": [
    "f.seek(0)"
   ]
  },
  {
   "cell_type": "code",
   "execution_count": 8,
   "metadata": {},
   "outputs": [
    {
     "data": {
      "text/plain": [
       "'Pr'"
      ]
     },
     "execution_count": 8,
     "metadata": {},
     "output_type": "execute_result"
    }
   ],
   "source": [
    "f.read(2)"
   ]
  },
  {
   "cell_type": "markdown",
   "metadata": {},
   "source": [
    "## Reading Lines from a File\n",
    "More often you'll want to read in entire lines from a file rather than single characters, and we can do this using the readline() function:"
   ]
  },
  {
   "cell_type": "code",
   "execution_count": 9,
   "metadata": {},
   "outputs": [
    {
     "data": {
      "text/plain": [
       "\"oject Gutenberg's The Land That Time Forgot, by Edgar Rice Burroughs\\n\""
      ]
     },
     "execution_count": 9,
     "metadata": {},
     "output_type": "execute_result"
    }
   ],
   "source": [
    "f.readline()"
   ]
  },
  {
   "cell_type": "markdown",
   "metadata": {},
   "source": [
    "Notice the \"\\n\" at the end of each line? That's because text files contain invisible newline characters after each line to denote a line break. We'll need to parse these."
   ]
  },
  {
   "cell_type": "markdown",
   "metadata": {},
   "source": [
    "## Reading in all lines from a file into a list\n",
    "To grab the entire file and return each line as a list, use the readlines() method: "
   ]
  },
  {
   "cell_type": "code",
   "execution_count": 3,
   "metadata": {},
   "outputs": [
    {
     "data": {
      "text/plain": [
       "[]"
      ]
     },
     "execution_count": 3,
     "metadata": {},
     "output_type": "execute_result"
    }
   ],
   "source": [
    "infile = f.readlines()\n",
    "infile"
   ]
  },
  {
   "cell_type": "markdown",
   "metadata": {},
   "source": [
    "## Garbage Collection of the File Object\n",
    "If we try to do anything else to f now that we've pulled all the lines out, we'll notice that the file handle is now empty:"
   ]
  },
  {
   "cell_type": "code",
   "execution_count": 14,
   "metadata": {},
   "outputs": [
    {
     "data": {
      "text/plain": [
       "''"
      ]
     },
     "execution_count": 14,
     "metadata": {},
     "output_type": "execute_result"
    }
   ],
   "source": [
    "f.read()"
   ]
  },
  {
   "cell_type": "markdown",
   "metadata": {},
   "source": [
    "This is because once all the lines are obtained in the file, the pointer referring to the file is removed, and our file object is no longer valid and gets garbage collected. We will need to re-open the file handle."
   ]
  },
  {
   "cell_type": "markdown",
   "metadata": {},
   "source": [
    "## Closing a File Object\n",
    "It's good practice to close a file handle once you're done with it, to prevent accidental reading and writing, and to prevent it from being locked for use by others:"
   ]
  },
  {
   "cell_type": "code",
   "execution_count": 15,
   "metadata": {},
   "outputs": [],
   "source": [
    "f.close()"
   ]
  },
  {
   "cell_type": "markdown",
   "metadata": {},
   "source": [
    "## Access Modes\n",
    "There are various ways you can open a file depending on what you need to do with it. The access mode argument that you use to open a file tells python a few different things:\n",
    "\n",
    "- What you need to do with the file (read, write)\n",
    "- What type of file you are working with\n",
    "- Where you want to place the pointer\n",
    "- Whether or not you want to overwrite existing content\n",
    "\n",
    "<img src=\"access_modes.png\">"
   ]
  },
  {
   "cell_type": "code",
   "execution_count": 16,
   "metadata": {},
   "outputs": [],
   "source": [
    "f = open(\"./land_time_forgot.txt\", \"r\")"
   ]
  },
  {
   "cell_type": "markdown",
   "metadata": {},
   "source": [
    "## Write to text files\n",
    "By default, the open() method opens files in text read-only mode (rt). In order to write to a file, you must specify that you want to write to a file:"
   ]
  },
  {
   "cell_type": "code",
   "execution_count": 20,
   "metadata": {},
   "outputs": [],
   "source": [
    "f = open(\"./land_time_forgot.txt\", \"a\")"
   ]
  },
  {
   "cell_type": "code",
   "execution_count": 21,
   "metadata": {},
   "outputs": [],
   "source": [
    "# appending a list of lines to a file\n",
    "outlines = [\"Hello there! This is my first line! \\n\",\n",
    "    \"This is the second line \\n\", \n",
    "    \"This is the last time I'm doing this...\"]"
   ]
  },
  {
   "cell_type": "code",
   "execution_count": 22,
   "metadata": {},
   "outputs": [],
   "source": [
    "f.writelines(outlines)"
   ]
  },
  {
   "cell_type": "code",
   "execution_count": null,
   "metadata": {},
   "outputs": [],
   "source": []
  }
 ],
 "metadata": {
  "kernelspec": {
   "display_name": "Python 3",
   "language": "python",
   "name": "python3"
  },
  "language_info": {
   "codemirror_mode": {
    "name": "ipython",
    "version": 3
   },
   "file_extension": ".py",
   "mimetype": "text/x-python",
   "name": "python",
   "nbconvert_exporter": "python",
   "pygments_lexer": "ipython3",
   "version": "3.7.1"
  }
 },
 "nbformat": 4,
 "nbformat_minor": 2
}
