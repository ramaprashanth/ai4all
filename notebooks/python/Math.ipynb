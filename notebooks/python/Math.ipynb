{
 "cells": [
  {
   "cell_type": "markdown",
   "metadata": {},
   "source": [
    "# Math Operations\n",
    "Operators are a fancy word for an object that manipulates the value of variables. \n",
    "\n",
    "In the expression \"6 + 5\", 6 and 5 are <b>operands</b>, and the \"+\" sign is the <b>operator</b>. \n",
    "\n",
    "In programming there are several different kinds of operands, and we'll go over the basics here. "
   ]
  },
  {
   "cell_type": "code",
   "execution_count": 8,
   "metadata": {},
   "outputs": [
    {
     "name": "stdout",
     "output_type": "stream",
     "text": [
      "╒══════════╤════════════════╤═════════╕\n",
      "│ Operator │ Description    │ Example │\n",
      "╞══════════╪════════════════╪═════════╡\n",
      "│ +        │ Addition       │ 2+2=4   │\n",
      "├──────────┼────────────────┼─────────┤\n",
      "│ -        │ Subtraction    │ 2-2=4   │\n",
      "├──────────┼────────────────┼─────────┤\n",
      "│ *        │ Multiplication │ 2*2=4   │\n",
      "├──────────┼────────────────┼─────────┤\n",
      "│ /        │ Division       │ 2/2=1   │\n",
      "├──────────┼────────────────┼─────────┤\n",
      "│ %        │ Modulus        │ 12%5=2  │\n",
      "├──────────┼────────────────┼─────────┤\n",
      "│ **       │ Exponent       │ 2**4=16 │\n",
      "└──────────┴────────────────┴─────────┘\n"
     ]
    }
   ],
   "source": [
    "from tabletext import to_text\n",
    "math_table = [\n",
    "    [\"Operator\", \"Description\", \"Example\"],\n",
    "    [\"+\", \"Addition\", \"2+2=4\"],\n",
    "    [\"-\", \"Subtraction\", \"2-2=4\"],\n",
    "    [\"*\", \"Multiplication\", \"2*2=4\"],\n",
    "    [\"/\", \"Division\", \"2/2=1\"],\n",
    "    [\"%\", \"Modulus\", \"12%5=2\"],\n",
    "    [\"**\", \"Exponent\", \"2**4=16\"]\n",
    "    \n",
    "]\n",
    "print(to_text(math_table, header=True))"
   ]
  },
  {
   "cell_type": "code",
   "execution_count": 2,
   "metadata": {},
   "outputs": [
    {
     "data": {
      "text/plain": [
       "4"
      ]
     },
     "execution_count": 2,
     "metadata": {},
     "output_type": "execute_result"
    }
   ],
   "source": [
    "2**2"
   ]
  },
  {
   "cell_type": "markdown",
   "metadata": {},
   "source": [
    "We can store the results of mathematical operations as variables:"
   ]
  },
  {
   "cell_type": "code",
   "execution_count": 3,
   "metadata": {},
   "outputs": [
    {
     "data": {
      "text/plain": [
       "12"
      ]
     },
     "execution_count": 3,
     "metadata": {},
     "output_type": "execute_result"
    }
   ],
   "source": [
    "running_total = 2 + 4 + 6\n",
    "running_total_doubled = running_total * 2\n",
    "\n",
    "running_total"
   ]
  },
  {
   "cell_type": "code",
   "execution_count": 12,
   "metadata": {},
   "outputs": [
    {
     "data": {
      "text/plain": [
       "24"
      ]
     },
     "execution_count": 12,
     "metadata": {},
     "output_type": "execute_result"
    }
   ],
   "source": [
    "running_total_doubled"
   ]
  },
  {
   "cell_type": "markdown",
   "metadata": {},
   "source": [
    "### Modulo\n",
    "Divides left hand operand by right hand operand and returns remainder: "
   ]
  },
  {
   "cell_type": "code",
   "execution_count": 13,
   "metadata": {},
   "outputs": [
    {
     "data": {
      "text/plain": [
       "11"
      ]
     },
     "execution_count": 13,
     "metadata": {},
     "output_type": "execute_result"
    }
   ],
   "source": [
    "27 % 16"
   ]
  },
  {
   "cell_type": "markdown",
   "metadata": {},
   "source": [
    "27/16 = 1 remainder 11"
   ]
  },
  {
   "cell_type": "markdown",
   "metadata": {},
   "source": [
    "### Why the heck would I need this?\n",
    "Great way to check if a number is even or odd. "
   ]
  },
  {
   "cell_type": "code",
   "execution_count": 14,
   "metadata": {},
   "outputs": [
    {
     "data": {
      "text/plain": [
       "0"
      ]
     },
     "execution_count": 14,
     "metadata": {},
     "output_type": "execute_result"
    }
   ],
   "source": [
    "16 % 2"
   ]
  },
  {
   "cell_type": "code",
   "execution_count": 15,
   "metadata": {},
   "outputs": [
    {
     "data": {
      "text/plain": [
       "1"
      ]
     },
     "execution_count": 15,
     "metadata": {},
     "output_type": "execute_result"
    }
   ],
   "source": [
    "15 % 2"
   ]
  },
  {
   "cell_type": "markdown",
   "metadata": {},
   "source": [
    "## Comparison with Boolean Operators\n",
    "Comparison operators are used to compare the values on either side of the operator. Returns a boolean value which is a string that is either \"True\" or \"False. "
   ]
  },
  {
   "cell_type": "code",
   "execution_count": 22,
   "metadata": {},
   "outputs": [
    {
     "name": "stdout",
     "output_type": "stream",
     "text": [
      "╒══════════╤═════════════════════════════════════════════════╤══════════╕\n",
      "│ Operator │ Description                                     │ Example  │\n",
      "╞══════════╪═════════════════════════════════════════════════╪══════════╡\n",
      "│ ==       │ True if the values are equal.                   │ (a == b) │\n",
      "├──────────┼─────────────────────────────────────────────────┼──────────┤\n",
      "│ !=       │ True if values are not equal                    │ 5 != 4   │\n",
      "├──────────┼─────────────────────────────────────────────────┼──────────┤\n",
      "│ >        │ True if value of left is greater than right     │ 8>1      │\n",
      "├──────────┼─────────────────────────────────────────────────┼──────────┤\n",
      "│ <        │ True if value of left is less than right.       │ 12<222   │\n",
      "├──────────┼─────────────────────────────────────────────────┼──────────┤\n",
      "│ >=       │ True if left value is greater or equal to right │ 8>=8     │\n",
      "├──────────┼─────────────────────────────────────────────────┼──────────┤\n",
      "│ <=       │ True if right value is greater or equal to left │ 8<=8     │\n",
      "└──────────┴─────────────────────────────────────────────────┴──────────┘\n"
     ]
    }
   ],
   "source": [
    "from tabletext import to_text\n",
    "math_table = [\n",
    "    [\"Operator\", \"Description\", \"Example\"],\n",
    "    [\"==\", \"True if the values are equal.\", \"(a == b)\"],\n",
    "    [\"!=\", \"True if values are not equal\", \"5 != 4\"],\n",
    "    [\">\", \"True if value of left is greater than right\", \"8>1\"],\n",
    "    [\"<\", \"True if value of left is less than right.\", \"12<222\"],\n",
    "    [\">=\", \"True if left value is greater or equal to right\", \"8>=8\"],\n",
    "    [\"<=\", \"True if right value is greater or equal to left\", \"8<=8\"]\n",
    "    \n",
    "]\n",
    "print(to_text(math_table, header=True))"
   ]
  },
  {
   "cell_type": "code",
   "execution_count": 23,
   "metadata": {},
   "outputs": [
    {
     "data": {
      "text/plain": [
       "False"
      ]
     },
     "execution_count": 23,
     "metadata": {},
     "output_type": "execute_result"
    }
   ],
   "source": [
    "\n",
    "\"cheese\" == \"chicken\""
   ]
  },
  {
   "cell_type": "code",
   "execution_count": 24,
   "metadata": {},
   "outputs": [
    {
     "data": {
      "text/plain": [
       "True"
      ]
     },
     "execution_count": 24,
     "metadata": {},
     "output_type": "execute_result"
    }
   ],
   "source": [
    "\"cheese\" != \"chicken\""
   ]
  },
  {
   "cell_type": "code",
   "execution_count": 25,
   "metadata": {},
   "outputs": [
    {
     "data": {
      "text/plain": [
       "True"
      ]
     },
     "execution_count": 25,
     "metadata": {},
     "output_type": "execute_result"
    }
   ],
   "source": [
    "\"chicken\" > \"cheese\" #nothing is greater than cheese."
   ]
  },
  {
   "cell_type": "code",
   "execution_count": 5,
   "metadata": {},
   "outputs": [
    {
     "data": {
      "text/plain": [
       "True"
      ]
     },
     "execution_count": 5,
     "metadata": {},
     "output_type": "execute_result"
    }
   ],
   "source": [
    "1 == 2-1"
   ]
  },
  {
   "cell_type": "code",
   "execution_count": 27,
   "metadata": {},
   "outputs": [
    {
     "data": {
      "text/plain": [
       "False"
      ]
     },
     "execution_count": 27,
     "metadata": {},
     "output_type": "execute_result"
    }
   ],
   "source": [
    "a = 5\n",
    "b = 6\n",
    "a  == b"
   ]
  },
  {
   "cell_type": "markdown",
   "metadata": {},
   "source": [
    "These are great for flow control: "
   ]
  },
  {
   "cell_type": "code",
   "execution_count": 1,
   "metadata": {},
   "outputs": [
    {
     "name": "stdout",
     "output_type": "stream",
     "text": [
      "8\n"
     ]
    }
   ],
   "source": [
    "x = 7\n",
    "if x > 5:\n",
    "    x = x + 1\n",
    "    print(x)"
   ]
  },
  {
   "cell_type": "markdown",
   "metadata": {},
   "source": [
    "## Assignment Operators\n",
    "Assignment operators assign values to variables. We've already worked with these: "
   ]
  },
  {
   "cell_type": "code",
   "execution_count": 33,
   "metadata": {},
   "outputs": [],
   "source": [
    "my_var = \"stuff\""
   ]
  },
  {
   "cell_type": "markdown",
   "metadata": {},
   "source": [
    "But you can also use \"compound\" operators that are shorthand for doing something to the variable, and then assigning that value to the same variable, for example, increasing the variably by one: "
   ]
  },
  {
   "cell_type": "code",
   "execution_count": 34,
   "metadata": {},
   "outputs": [
    {
     "name": "stdout",
     "output_type": "stream",
     "text": [
      "2\n",
      "3\n",
      "4\n",
      "5\n"
     ]
    }
   ],
   "source": [
    "x = 1\n",
    "while x < 5:\n",
    "    x = x + 1\n",
    "    print(x)"
   ]
  },
  {
   "cell_type": "code",
   "execution_count": 35,
   "metadata": {},
   "outputs": [
    {
     "name": "stdout",
     "output_type": "stream",
     "text": [
      "2\n",
      "3\n",
      "4\n",
      "5\n"
     ]
    }
   ],
   "source": [
    "x = 1\n",
    "while x < 5:\n",
    "    x += 1\n",
    "    print(x)"
   ]
  },
  {
   "cell_type": "markdown",
   "metadata": {},
   "source": [
    "<img src=\"compound_operators.png\">"
   ]
  }
 ],
 "metadata": {
  "kernelspec": {
   "display_name": "Python 3",
   "language": "python",
   "name": "python3"
  },
  "language_info": {
   "codemirror_mode": {
    "name": "ipython",
    "version": 3
   },
   "file_extension": ".py",
   "mimetype": "text/x-python",
   "name": "python",
   "nbconvert_exporter": "python",
   "pygments_lexer": "ipython3",
   "version": "3.5.2"
  }
 },
 "nbformat": 4,
 "nbformat_minor": 2
}
