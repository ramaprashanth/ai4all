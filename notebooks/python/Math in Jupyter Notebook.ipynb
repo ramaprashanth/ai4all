{
 "cells": [
  {
   "cell_type": "markdown",
   "metadata": {},
   "source": [
    "# Let's do math!\n",
    "We're going to try out some simple math equations in Jupyter notebook. "
   ]
  },
  {
   "cell_type": "markdown",
   "metadata": {},
   "source": [
    "## Opening Jupyter Notebook\n",
    "This tutorial assumes that you already have python, ipython and Jupyter Notebook installed. \n",
    "\n",
    "If you haven't already, clone the following GitHub repo to your desktop so that you can download all the notebooks to your computer. \n",
    "\n",
    "https://github.com/summerela/UWFoster_python_bootcamp.git\n",
    "\n",
    "### Mac: \n",
    "1. Open your terminal (space bar + command, then search for terminal)\n",
    "2. On the command line, type \"jupyter notebook\"\n",
    "3. Jupyter Notebook will open in your browser window\n",
    "\n",
    "### Windows\n",
    "1. Open Powershell or your command prompt (windows button + r, then type cmd)\n",
    "2. Type \"jupyter notebook\"\n",
    "3. Jupyter Notebook will open from in a browser window\n",
    "\n",
    "On windows, if you installed python via Anaconda, you may also have some program options under Anaconda to open Jupyter Notebook that way.\n",
    "\n",
    "You will be taken to a directory tree where you can:\n",
    "\n",
    "- view files in current directory\n",
    "- create new notebooks\n",
    "- edit or delete notebooks\n",
    "- view running notebooks\n",
    "\n",
    "By default, your ipython notebooks can be found by going to the following URL in your browser: http://127.0.0.1:8888/\n",
    "\n",
    "If you get a note about logging in, then you need to look at the terminal window that is running jupyter notebook and copy and paste the token from that window into the URL.\n",
    "\n",
    "## Create a new notebook\n",
    "From the main notebook page:\n",
    "\n",
    "- Click on \"New\"\n",
    "- Choose Python 3\n",
    "When Jupyter loads, it will have a menu bar on the top and then an editor bar.   After that, it will have the first 'Cell' or 'Block' in the notebook that allows you to enter code, markup or text.\n",
    "\n",
    "## Using Jupyter Notebook\n",
    "To run a cell, type something in that cell then hit shift + enter. Try this out in the cell below. "
   ]
  },
  {
   "cell_type": "code",
   "execution_count": 2,
   "metadata": {},
   "outputs": [
    {
     "data": {
      "text/plain": [
       "'Hello World'"
      ]
     },
     "execution_count": 2,
     "metadata": {},
     "output_type": "execute_result"
    }
   ],
   "source": [
    "\"Hello World\""
   ]
  },
  {
   "cell_type": "code",
   "execution_count": 2,
   "metadata": {},
   "outputs": [
    {
     "data": {
      "text/plain": [
       "23400"
      ]
     },
     "execution_count": 2,
     "metadata": {},
     "output_type": "execute_result"
    }
   ],
   "source": [
    "100 * 234"
   ]
  },
  {
   "cell_type": "code",
   "execution_count": 4,
   "metadata": {},
   "outputs": [
    {
     "data": {
      "text/plain": [
       "256"
      ]
     },
     "execution_count": 4,
     "metadata": {},
     "output_type": "execute_result"
    }
   ],
   "source": [
    "2**8"
   ]
  },
  {
   "cell_type": "markdown",
   "metadata": {},
   "source": [
    "## Now let's do math!\n",
    "In the cell below, calculate 14 divided by 3. "
   ]
  },
  {
   "cell_type": "code",
   "execution_count": 1,
   "metadata": {},
   "outputs": [
    {
     "data": {
      "text/plain": [
       "4.666666666666667"
      ]
     },
     "execution_count": 1,
     "metadata": {},
     "output_type": "execute_result"
    }
   ],
   "source": [
    "14/3"
   ]
  },
  {
   "cell_type": "markdown",
   "metadata": {},
   "source": [
    "Assign the output of 12 plus 27 to a variable called \"my_var\". "
   ]
  },
  {
   "cell_type": "code",
   "execution_count": 10,
   "metadata": {},
   "outputs": [],
   "source": [
    "my_var = 12 + 27"
   ]
  },
  {
   "cell_type": "code",
   "execution_count": 7,
   "metadata": {},
   "outputs": [
    {
     "data": {
      "text/plain": [
       "39"
      ]
     },
     "execution_count": 7,
     "metadata": {},
     "output_type": "execute_result"
    }
   ],
   "source": [
    "my_var"
   ]
  },
  {
   "cell_type": "markdown",
   "metadata": {},
   "source": [
    "Muliply my_var by two. "
   ]
  },
  {
   "cell_type": "code",
   "execution_count": 11,
   "metadata": {},
   "outputs": [],
   "source": [
    "my_var2 = my_var * 20"
   ]
  },
  {
   "cell_type": "code",
   "execution_count": 12,
   "metadata": {},
   "outputs": [
    {
     "data": {
      "text/plain": [
       "780"
      ]
     },
     "execution_count": 12,
     "metadata": {},
     "output_type": "execute_result"
    }
   ],
   "source": [
    "my_var2"
   ]
  },
  {
   "cell_type": "code",
   "execution_count": 13,
   "metadata": {},
   "outputs": [
    {
     "data": {
      "text/plain": [
       "39"
      ]
     },
     "execution_count": 13,
     "metadata": {},
     "output_type": "execute_result"
    }
   ],
   "source": [
    "my_var"
   ]
  },
  {
   "cell_type": "markdown",
   "metadata": {},
   "source": [
    "Create an equation to determine if 15 is odd or even. "
   ]
  },
  {
   "cell_type": "code",
   "execution_count": 16,
   "metadata": {},
   "outputs": [
    {
     "data": {
      "text/plain": [
       "False"
      ]
     },
     "execution_count": 16,
     "metadata": {},
     "output_type": "execute_result"
    }
   ],
   "source": [
    "15%2 == 0"
   ]
  },
  {
   "cell_type": "markdown",
   "metadata": {},
   "source": [
    "Create a statement to asses if Tim is greater than Julie. Why does python answer the way that it does? "
   ]
  },
  {
   "cell_type": "code",
   "execution_count": 10,
   "metadata": {},
   "outputs": [
    {
     "data": {
      "text/plain": [
       "True"
      ]
     },
     "execution_count": 10,
     "metadata": {},
     "output_type": "execute_result"
    }
   ],
   "source": [
    "\"Tim\" > \"Julie\""
   ]
  },
  {
   "cell_type": "code",
   "execution_count": null,
   "metadata": {},
   "outputs": [],
   "source": []
  }
 ],
 "metadata": {
  "kernelspec": {
   "display_name": "Python 3",
   "language": "python",
   "name": "python3"
  },
  "language_info": {
   "codemirror_mode": {
    "name": "ipython",
    "version": 3
   },
   "file_extension": ".py",
   "mimetype": "text/x-python",
   "name": "python",
   "nbconvert_exporter": "python",
   "pygments_lexer": "ipython3",
   "version": "3.5.2"
  }
 },
 "nbformat": 4,
 "nbformat_minor": 2
}
