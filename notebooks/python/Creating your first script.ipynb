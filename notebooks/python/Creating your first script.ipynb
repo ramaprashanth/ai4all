{
 "cells": [
  {
   "cell_type": "markdown",
   "metadata": {},
   "source": [
    "# Lab 3: Creating and Running Scripts\n",
    "We're going to pull together everything we've learned, add a few new tricks, and create and run our first python script. \n",
    "\n",
    "First we'll work out the code in this notebook, and then we'll learn how to turn it into a python script that we can run from the command line. \n",
    "\n",
    "Don't worry; you probably won't finish by the end of class. But please take the time to walk through this exercise because it will cover the following and be very helpful to your python programming: \n",
    "- reading in data from a file\n",
    "- reading in data from a URL\n",
    "- flow control\n",
    "- creating a function\n",
    "- working with lists and strings\n",
    "- creating and running a python script"
   ]
  },
  {
   "cell_type": "markdown",
   "metadata": {},
   "source": [
    "## Reading in Data From a File\n",
    "We've already learned how to read data in from a file. We're going to pull in a few lines from [Tale of Two Cities](http://www.gutenberg.org/files/98/98-0.txt), and mix it together with an Edgar Allen Poe line to create a new text. "
   ]
  },
  {
   "cell_type": "code",
   "execution_count": null,
   "metadata": {},
   "outputs": [],
   "source": [
    "f = open(\"../notebooks/tale_of_two_cities.txt\", \"r\")"
   ]
  },
  {
   "cell_type": "markdown",
   "metadata": {},
   "source": [
    "This time, we're going to use a \"with\" statement to open the file. This will keep the file open until we're finished with it, and then automatically close it witout the need for closing the file handle. "
   ]
  },
  {
   "cell_type": "code",
   "execution_count": 33,
   "metadata": {},
   "outputs": [],
   "source": [
    "with open(\"../notebooks/tale_of_two_cities.txt\", \"r\") as f:\n",
    "    lines = f.readlines()"
   ]
  },
  {
   "cell_type": "markdown",
   "metadata": {},
   "source": [
    "This will store all the lines in the whole book under the variable `lines`, but we only want to work with the first 15 lines of text and skip all the weird intro stuff. "
   ]
  },
  {
   "cell_type": "code",
   "execution_count": 36,
   "metadata": {},
   "outputs": [],
   "source": [
    "tale_15 = lines[131:146]"
   ]
  },
  {
   "cell_type": "code",
   "execution_count": 37,
   "metadata": {},
   "outputs": [
    {
     "data": {
      "text/plain": [
       "['There were a king with a large jaw and a queen with a plain face, on the\\n',\n",
       " 'throne of England; there were a king with a large jaw and a queen with\\n',\n",
       " 'a fair face, on the throne of France. In both countries it was clearer\\n',\n",
       " 'than crystal to the lords of the State preserves of loaves and fishes,\\n',\n",
       " 'that things in general were settled for ever.\\n',\n",
       " '\\n',\n",
       " 'It was the year of Our Lord one thousand seven hundred and seventy-five.\\n',\n",
       " 'Spiritual revelations were conceded to England at that favoured period,\\n',\n",
       " 'as at this. Mrs. Southcott had recently attained her five-and-twentieth\\n',\n",
       " 'blessed birthday, of whom a prophetic private in the Life Guards had\\n',\n",
       " 'heralded the sublime appearance by announcing that arrangements were\\n',\n",
       " 'made for the swallowing up of London and Westminster. Even the Cock-lane\\n',\n",
       " 'ghost had been laid only a round dozen of years, after rapping out its\\n',\n",
       " 'messages, as the spirits of this very year last past (supernaturally\\n',\n",
       " 'deficient in originality) rapped out theirs. Mere messages in the\\n']"
      ]
     },
     "execution_count": 37,
     "metadata": {},
     "output_type": "execute_result"
    }
   ],
   "source": [
    "tale_15"
   ]
  },
  {
   "cell_type": "markdown",
   "metadata": {},
   "source": [
    "## Parse Text\n",
    "We need to use a few string and list methods to clean up that input. Let's start by getting rid of those newline characters. \n",
    "\n",
    "It's always best to start simple by breaking down the problem into steps. \n",
    "\n",
    "Let's take one line out of the text and turn it into a string so we can use the strip() method: "
   ]
  },
  {
   "cell_type": "code",
   "execution_count": 40,
   "metadata": {},
   "outputs": [],
   "source": [
    "test_line = \"as at this. Mrs. Southcott had recently attained her five-and-twentieth\\n\""
   ]
  },
  {
   "cell_type": "markdown",
   "metadata": {},
   "source": [
    "Now use the strip() method on the test_line: "
   ]
  },
  {
   "cell_type": "code",
   "execution_count": 41,
   "metadata": {},
   "outputs": [
    {
     "data": {
      "text/plain": [
       "'as at this. Mrs. Southcott had recently attained her five-and-twentieth'"
      ]
     },
     "execution_count": 41,
     "metadata": {},
     "output_type": "execute_result"
    }
   ],
   "source": [
    "test_line.strip()"
   ]
  },
  {
   "cell_type": "markdown",
   "metadata": {},
   "source": [
    "This works! We can use strip() on each line, but we have to figure out a way to apply this to every line in tale_15. \n",
    "\n",
    "When we want to do something to every item in a list, we have to use iteration... a for loop. "
   ]
  },
  {
   "cell_type": "code",
   "execution_count": 42,
   "metadata": {},
   "outputs": [
    {
     "name": "stdout",
     "output_type": "stream",
     "text": [
      "There were a king with a large jaw and a queen with a plain face, on the\n",
      "\n",
      "throne of England; there were a king with a large jaw and a queen with\n",
      "\n",
      "a fair face, on the throne of France. In both countries it was clearer\n",
      "\n",
      "than crystal to the lords of the State preserves of loaves and fishes,\n",
      "\n",
      "that things in general were settled for ever.\n",
      "\n",
      "\n",
      "\n",
      "It was the year of Our Lord one thousand seven hundred and seventy-five.\n",
      "\n",
      "Spiritual revelations were conceded to England at that favoured period,\n",
      "\n",
      "as at this. Mrs. Southcott had recently attained her five-and-twentieth\n",
      "\n",
      "blessed birthday, of whom a prophetic private in the Life Guards had\n",
      "\n",
      "heralded the sublime appearance by announcing that arrangements were\n",
      "\n",
      "made for the swallowing up of London and Westminster. Even the Cock-lane\n",
      "\n",
      "ghost had been laid only a round dozen of years, after rapping out its\n",
      "\n",
      "messages, as the spirits of this very year last past (supernaturally\n",
      "\n",
      "deficient in originality) rapped out theirs. Mere messages in the\n",
      "\n"
     ]
    }
   ],
   "source": [
    "for line in tale_15:\n",
    "    print(line)"
   ]
  },
  {
   "cell_type": "markdown",
   "metadata": {},
   "source": [
    "It looks like we figured out how to loop through every line in our list. Now we need to figure out how to apply the strip method to each line: "
   ]
  },
  {
   "cell_type": "code",
   "execution_count": 39,
   "metadata": {},
   "outputs": [
    {
     "name": "stdout",
     "output_type": "stream",
     "text": [
      "There were a king with a large jaw and a queen with a plain face, on the\n",
      "throne of England; there were a king with a large jaw and a queen with\n",
      "a fair face, on the throne of France. In both countries it was clearer\n",
      "than crystal to the lords of the State preserves of loaves and fishes,\n",
      "that things in general were settled for ever.\n",
      "\n",
      "It was the year of Our Lord one thousand seven hundred and seventy-five.\n",
      "Spiritual revelations were conceded to England at that favoured period,\n",
      "as at this. Mrs. Southcott had recently attained her five-and-twentieth\n",
      "blessed birthday, of whom a prophetic private in the Life Guards had\n",
      "heralded the sublime appearance by announcing that arrangements were\n",
      "made for the swallowing up of London and Westminster. Even the Cock-lane\n",
      "ghost had been laid only a round dozen of years, after rapping out its\n",
      "messages, as the spirits of this very year last past (supernaturally\n",
      "deficient in originality) rapped out theirs. Mere messages in the\n"
     ]
    }
   ],
   "source": [
    "for line in tale_15:\n",
    "    line = line.strip()\n",
    "    print(line)"
   ]
  },
  {
   "cell_type": "markdown",
   "metadata": {},
   "source": [
    "Ok, that works. But we're going to need to store the output as a new variable if we want to be able to access the results. Otherwise it's just printing to screen, never to be seen from again. \n",
    "\n",
    "We'll create a list outside of the for loop, so that we can throw the results into it using the append method each time we iterate through a line in the loop. Let's check out how this works: "
   ]
  },
  {
   "cell_type": "code",
   "execution_count": 45,
   "metadata": {},
   "outputs": [],
   "source": [
    "clean_tale_15= []\n",
    "\n",
    "for line in tale_15:\n",
    "    line = line.strip()\n",
    "    clean_tale_15.append(line)"
   ]
  },
  {
   "cell_type": "code",
   "execution_count": 46,
   "metadata": {},
   "outputs": [
    {
     "data": {
      "text/plain": [
       "['There were a king with a large jaw and a queen with a plain face, on the',\n",
       " 'throne of England; there were a king with a large jaw and a queen with',\n",
       " 'a fair face, on the throne of France. In both countries it was clearer',\n",
       " 'than crystal to the lords of the State preserves of loaves and fishes,',\n",
       " 'that things in general were settled for ever.',\n",
       " '',\n",
       " 'It was the year of Our Lord one thousand seven hundred and seventy-five.',\n",
       " 'Spiritual revelations were conceded to England at that favoured period,',\n",
       " 'as at this. Mrs. Southcott had recently attained her five-and-twentieth',\n",
       " 'blessed birthday, of whom a prophetic private in the Life Guards had',\n",
       " 'heralded the sublime appearance by announcing that arrangements were',\n",
       " 'made for the swallowing up of London and Westminster. Even the Cock-lane',\n",
       " 'ghost had been laid only a round dozen of years, after rapping out its',\n",
       " 'messages, as the spirits of this very year last past (supernaturally',\n",
       " 'deficient in originality) rapped out theirs. Mere messages in the']"
      ]
     },
     "execution_count": 46,
     "metadata": {},
     "output_type": "execute_result"
    }
   ],
   "source": [
    "clean_tale_15"
   ]
  },
  {
   "cell_type": "markdown",
   "metadata": {},
   "source": [
    "Yes! The newline characters are gone. "
   ]
  },
  {
   "cell_type": "markdown",
   "metadata": {},
   "source": [
    "## Read in data from a URL\n",
    "To read in data from the URL, you'll want to import the requests library. You may need to install this first by running\n",
    "    `pip install requests` from the command line. "
   ]
  },
  {
   "cell_type": "code",
   "execution_count": 1,
   "metadata": {},
   "outputs": [
    {
     "data": {
      "text/plain": [
       "'Once upon a midnight dreary, while I pondered, weak and weary,\\r\\nOver many a quaint and curious volume of forgotten lore.'"
      ]
     },
     "execution_count": 1,
     "metadata": {},
     "output_type": "execute_result"
    }
   ],
   "source": [
    "import requests\n",
    "\n",
    "link = \"http://www.gutenberg.org/cache/epub/17192/pg17192.txt\"\n",
    "f = requests.get(link)\n",
    "edgar_15 = f.text[1735:1855]\n",
    "edgar_15"
   ]
  },
  {
   "cell_type": "markdown",
   "metadata": {},
   "source": [
    "Instead of a list of words, requests give us back the book text as a string. "
   ]
  },
  {
   "cell_type": "code",
   "execution_count": 72,
   "metadata": {},
   "outputs": [
    {
     "data": {
      "text/plain": [
       "str"
      ]
     },
     "execution_count": 72,
     "metadata": {},
     "output_type": "execute_result"
    }
   ],
   "source": [
    "type(edgar_15)"
   ]
  },
  {
   "cell_type": "markdown",
   "metadata": {},
   "source": [
    "Use the string split method to split the text by commas and store the output as edgar_lines: "
   ]
  },
  {
   "cell_type": "code",
   "execution_count": 76,
   "metadata": {},
   "outputs": [],
   "source": [
    "edgar_lines = edgar_15.split(\",\")"
   ]
  },
  {
   "cell_type": "code",
   "execution_count": 78,
   "metadata": {},
   "outputs": [
    {
     "data": {
      "text/plain": [
       "['Once upon a midnight dreary',\n",
       " ' while I pondered',\n",
       " ' weak and weary',\n",
       " '\\r\\nOver many a quaint and curious volume of forgotten lore.']"
      ]
     },
     "execution_count": 78,
     "metadata": {},
     "output_type": "execute_result"
    }
   ],
   "source": [
    "edgar_lines"
   ]
  },
  {
   "cell_type": "markdown",
   "metadata": {},
   "source": [
    "What data type is edgar_lines? "
   ]
  },
  {
   "cell_type": "code",
   "execution_count": 77,
   "metadata": {},
   "outputs": [
    {
     "data": {
      "text/plain": [
       "list"
      ]
     },
     "execution_count": 77,
     "metadata": {},
     "output_type": "execute_result"
    }
   ],
   "source": [
    "type(edgar_lines)"
   ]
  },
  {
   "cell_type": "markdown",
   "metadata": {},
   "source": [
    "## Determine if a number is odd or even \n",
    "First we're going to need to put together a function that will iterate through a list and split up the odd and even lines. \n",
    "\n",
    "Let's take another look at the enumerate function: "
   ]
  },
  {
   "cell_type": "code",
   "execution_count": 100,
   "metadata": {},
   "outputs": [
    {
     "name": "stdout",
     "output_type": "stream",
     "text": [
      "0 Once upon a midnight dreary\n",
      "1  while I pondered\n",
      "2  weak and weary\n",
      "3 \r\n",
      "Over many a quaint and curious volume of forgotten lore.\n"
     ]
    }
   ],
   "source": [
    "for index, value in enumerate(edgar_lines):\n",
    "    print(index, value)"
   ]
  },
  {
   "cell_type": "markdown",
   "metadata": {},
   "source": [
    "This gives us what we need, the line number, and the line. \n",
    "\n",
    "Remember the `modulo` function that can help us determine if a number is odd or even? We can use modulo and flow control to programatically decide if the line number is even or odd. Something along these lines: "
   ]
  },
  {
   "cell_type": "code",
   "execution_count": 101,
   "metadata": {},
   "outputs": [
    {
     "name": "stdout",
     "output_type": "stream",
     "text": [
      "0 is even\n",
      "1 is odd.\n",
      "2 is even\n",
      "3 is odd.\n"
     ]
    }
   ],
   "source": [
    "num_list = [0,1,2,3]\n",
    "\n",
    "for number in num_list:\n",
    "    # if number is divisible by two with no remainder, it's even\n",
    "    if number % 2 == 0:\n",
    "        print(\"{} is even\".format(number))\n",
    "    # if its not even, it's odd\n",
    "    else:\n",
    "        print(\"{} is odd.\".format(number))"
   ]
  },
  {
   "cell_type": "markdown",
   "metadata": {},
   "source": [
    "Let's take that a step further with the append() method, and pull the odd and even numbers into separate lists: "
   ]
  },
  {
   "cell_type": "code",
   "execution_count": 102,
   "metadata": {},
   "outputs": [],
   "source": [
    "# create our list to iterate through\n",
    "num_list = [0,1,2,3]\n",
    "\n",
    "# create empty lists outside the loop to store odds and evens\n",
    "odds = [ ]\n",
    "evens = []\n",
    "\n",
    "for number in num_list:\n",
    "    # if number is even, append to evens list\n",
    "    if number % 2 == 0:\n",
    "        evens.append(number)\n",
    "    # if its not even, append it to odds list\n",
    "    else:\n",
    "        odds.append(number)"
   ]
  },
  {
   "cell_type": "markdown",
   "metadata": {},
   "source": [
    "Now we can print out the odds and even lists and see that we tossed odd and even variables outside of our loop into these emtpy lists using the append method. "
   ]
  },
  {
   "cell_type": "code",
   "execution_count": 103,
   "metadata": {},
   "outputs": [
    {
     "data": {
      "text/plain": [
       "[0, 2]"
      ]
     },
     "execution_count": 103,
     "metadata": {},
     "output_type": "execute_result"
    }
   ],
   "source": [
    "evens"
   ]
  },
  {
   "cell_type": "code",
   "execution_count": 104,
   "metadata": {},
   "outputs": [
    {
     "data": {
      "text/plain": [
       "[1, 3]"
      ]
     },
     "execution_count": 104,
     "metadata": {},
     "output_type": "execute_result"
    }
   ],
   "source": [
    "odds"
   ]
  },
  {
   "cell_type": "markdown",
   "metadata": {},
   "source": [
    "Can you combine modulo with the enumerate method to throw odd and even indexed lines into lists? \n",
    "\n",
    "The answer is below, but don't look until you give it a try! "
   ]
  },
  {
   "cell_type": "code",
   "execution_count": null,
   "metadata": {},
   "outputs": [],
   "source": []
  },
  {
   "cell_type": "code",
   "execution_count": null,
   "metadata": {},
   "outputs": [],
   "source": []
  },
  {
   "cell_type": "code",
   "execution_count": 97,
   "metadata": {},
   "outputs": [],
   "source": [
    "odds = []\n",
    "evens = []\n",
    "for idx,value in enumerate(edgar_lines):\n",
    "    if idx % 2 == 0:\n",
    "        evens.append(value)\n",
    "    else:\n",
    "        odds.append(value)"
   ]
  },
  {
   "cell_type": "code",
   "execution_count": 98,
   "metadata": {},
   "outputs": [
    {
     "data": {
      "text/plain": [
       "[' while I pondered',\n",
       " '\\r\\nOver many a quaint and curious volume of forgotten lore.']"
      ]
     },
     "execution_count": 98,
     "metadata": {},
     "output_type": "execute_result"
    }
   ],
   "source": [
    "odds"
   ]
  },
  {
   "cell_type": "code",
   "execution_count": 99,
   "metadata": {},
   "outputs": [
    {
     "data": {
      "text/plain": [
       "['Once upon a midnight dreary', ' weak and weary']"
      ]
     },
     "execution_count": 99,
     "metadata": {},
     "output_type": "execute_result"
    }
   ],
   "source": [
    "evens"
   ]
  },
  {
   "cell_type": "markdown",
   "metadata": {},
   "source": [
    "## Turning it into a function\n",
    "Now that we know what we need to do, we can turn it into a function that will work to mix together both lists. \n",
    "\n",
    "The bones of a function are below: "
   ]
  },
  {
   "cell_type": "raw",
   "metadata": {},
   "source": [
    "def mix_lists(list1, list2):\n",
    "    \n",
    "    \n",
    "    return mixed_list"
   ]
  },
  {
   "cell_type": "markdown",
   "metadata": {},
   "source": [
    "So now we can start by sticking the pieces inside the function block, and indenting our original code by four spaces for each line so they belong to the function code block:"
   ]
  },
  {
   "cell_type": "code",
   "execution_count": null,
   "metadata": {},
   "outputs": [],
   "source": [
    "def mix_list(list1, list2):\n",
    "    odds = []\n",
    "    evens = []\n",
    "    for idx,value in enumerate(list1):\n",
    "        if idx % 2 == 0:\n",
    "            evens.append(value)\n",
    "        else:\n",
    "            odds.append(value)\n",
    "            \n",
    "    return mixed_list"
   ]
  },
  {
   "cell_type": "markdown",
   "metadata": {},
   "source": [
    "As it is, our code doesn't work yet. It worked on one list, but we need to do the following: \n",
    "- Make this work on two lists\n",
    "- zip the two lists together\n",
    "- output the zipped together list in our return statement\n",
    "\n",
    "Let's tackle this step by step. \n",
    "\n",
    "Instead of working on one list at a time, how about we make a list of our input lists, and enumerate through that? "
   ]
  },
  {
   "cell_type": "code",
   "execution_count": 108,
   "metadata": {},
   "outputs": [],
   "source": [
    "def mix_list(list1, list2):\n",
    "    \n",
    "    # create a list of the lists the user inputs into this function\n",
    "    input_lists = [list1, list2]\n",
    "    \n",
    "    # keep these list placeholders outside our enumeration loop\n",
    "    # so that we can add lines to them\n",
    "    odds = []\n",
    "    evens = []\n",
    "    \n",
    "    # iterate through each list, where x represents the list name\n",
    "    for x in input_lists:\n",
    "    \n",
    "        # iterate through each line in our list\n",
    "        # x is still representing list name here\n",
    "        for idx,value in enumerate(x):\n",
    "            if idx % 2 == 0:\n",
    "                evens.append(value)\n",
    "            else:\n",
    "                odds.append(value)\n",
    "    # we'll just print odds and evens for now to make sure it works        \n",
    "    print(odds, evens)"
   ]
  },
  {
   "cell_type": "code",
   "execution_count": 109,
   "metadata": {},
   "outputs": [
    {
     "name": "stdout",
     "output_type": "stream",
     "text": [
      "['throne of England; there were a king with a large jaw and a queen with\\n', 'than crystal to the lords of the State preserves of loaves and fishes,\\n', '\\n', 'Spiritual revelations were conceded to England at that favoured period,\\n', 'blessed birthday, of whom a prophetic private in the Life Guards had\\n', 'made for the swallowing up of London and Westminster. Even the Cock-lane\\n', 'messages, as the spirits of this very year last past (supernaturally\\n', ' while I pondered', '\\r\\nOver many a quaint and curious volume of forgotten lore.'] ['There were a king with a large jaw and a queen with a plain face, on the\\n', 'a fair face, on the throne of France. In both countries it was clearer\\n', 'that things in general were settled for ever.\\n', 'It was the year of Our Lord one thousand seven hundred and seventy-five.\\n', 'as at this. Mrs. Southcott had recently attained her five-and-twentieth\\n', 'heralded the sublime appearance by announcing that arrangements were\\n', 'ghost had been laid only a round dozen of years, after rapping out its\\n', 'deficient in originality) rapped out theirs. Mere messages in the\\n', 'Once upon a midnight dreary', ' weak and weary']\n"
     ]
    }
   ],
   "source": [
    "mix_list(tale_15, edgar_lines)"
   ]
  },
  {
   "cell_type": "markdown",
   "metadata": {},
   "source": [
    "This definitely appears to be working, as we get results back from both odd and even lines from both lists. \n",
    "\n",
    "Now we need to put them together into a single chunk of text.\n",
    "\n",
    "Let's return the odds and evens lists as values, instead of just printing them, so that we can assign the output to variables we can use for testing."
   ]
  },
  {
   "cell_type": "code",
   "execution_count": 110,
   "metadata": {},
   "outputs": [],
   "source": [
    "def mix_list(list1, list2):\n",
    "    \n",
    "    # create a list of the lists the user inputs into this function\n",
    "    input_lists = [list1, list2]\n",
    "    \n",
    "    # keep these list placeholders outside our enumeration loop\n",
    "    # so that we can add lines to them\n",
    "    odds = []\n",
    "    evens = []\n",
    "    \n",
    "    # iterate through each list, where x represents the list name\n",
    "    for x in input_lists:\n",
    "    \n",
    "        # iterate through each line in our list\n",
    "        # x is still representing list name here\n",
    "        for idx,value in enumerate(x):\n",
    "            if idx % 2 == 0:\n",
    "                evens.append(value)\n",
    "            else:\n",
    "                odds.append(value)\n",
    "    # we're returning two lists here, so we'll need to assign\n",
    "    # output to two variables\n",
    "    return odds, evens"
   ]
  },
  {
   "cell_type": "markdown",
   "metadata": {},
   "source": [
    "Multiple assignment: because our function is currently returning two lists, we need to provide to variable names when we use this function. \n",
    "\n",
    "Think of this like algebra back in the day; we need to keep things even on both sides of the equal sign. "
   ]
  },
  {
   "cell_type": "code",
   "execution_count": 111,
   "metadata": {},
   "outputs": [],
   "source": [
    "odd_list, even_list = mix_list(tale_15, edgar_lines)"
   ]
  },
  {
   "cell_type": "markdown",
   "metadata": {},
   "source": [
    "We can use simple concatenation to paste these two lists together: "
   ]
  },
  {
   "cell_type": "code",
   "execution_count": 120,
   "metadata": {},
   "outputs": [],
   "source": [
    "joined_list = odd_list + even_list"
   ]
  },
  {
   "cell_type": "code",
   "execution_count": 121,
   "metadata": {},
   "outputs": [
    {
     "data": {
      "text/plain": [
       "['throne of England; there were a king with a large jaw and a queen with\\n',\n",
       " 'than crystal to the lords of the State preserves of loaves and fishes,\\n',\n",
       " '\\n',\n",
       " 'Spiritual revelations were conceded to England at that favoured period,\\n',\n",
       " 'blessed birthday, of whom a prophetic private in the Life Guards had\\n',\n",
       " 'made for the swallowing up of London and Westminster. Even the Cock-lane\\n',\n",
       " 'messages, as the spirits of this very year last past (supernaturally\\n',\n",
       " ' while I pondered',\n",
       " '\\r\\nOver many a quaint and curious volume of forgotten lore.',\n",
       " 'There were a king with a large jaw and a queen with a plain face, on the\\n',\n",
       " 'a fair face, on the throne of France. In both countries it was clearer\\n',\n",
       " 'that things in general were settled for ever.\\n',\n",
       " 'It was the year of Our Lord one thousand seven hundred and seventy-five.\\n',\n",
       " 'as at this. Mrs. Southcott had recently attained her five-and-twentieth\\n',\n",
       " 'heralded the sublime appearance by announcing that arrangements were\\n',\n",
       " 'ghost had been laid only a round dozen of years, after rapping out its\\n',\n",
       " 'deficient in originality) rapped out theirs. Mere messages in the\\n',\n",
       " 'Once upon a midnight dreary',\n",
       " ' weak and weary']"
      ]
     },
     "execution_count": 121,
     "metadata": {},
     "output_type": "execute_result"
    }
   ],
   "source": [
    "joined_list"
   ]
  },
  {
   "cell_type": "markdown",
   "metadata": {},
   "source": [
    "And now we can use the ''.join() method to paste this all together as a single chunk of text. "
   ]
  },
  {
   "cell_type": "code",
   "execution_count": 123,
   "metadata": {},
   "outputs": [],
   "source": [
    "odd_text = ''.join(joined_list)"
   ]
  },
  {
   "cell_type": "code",
   "execution_count": 126,
   "metadata": {},
   "outputs": [
    {
     "data": {
      "text/plain": [
       "'throne of England; there were a king with a large jaw and a queen with\\nthan crystal to the lords of the State preserves of loaves and fishes,\\n\\nSpiritual revelations were conceded to England at that favoured period,\\nblessed birthday, of whom a prophetic private in the Life Guards had\\nmade for the swallowing up of London and Westminster. Even the Cock-lane\\nmessages, as the spirits of this very year last past (supernaturally\\n while I pondered\\r\\nOver many a quaint and curious volume of forgotten lore.There were a king with a large jaw and a queen with a plain face, on the\\na fair face, on the throne of France. In both countries it was clearer\\nthat things in general were settled for ever.\\nIt was the year of Our Lord one thousand seven hundred and seventy-five.\\nas at this. Mrs. Southcott had recently attained her five-and-twentieth\\nheralded the sublime appearance by announcing that arrangements were\\nghost had been laid only a round dozen of years, after rapping out its\\ndeficient in originality) rapped out theirs. Mere messages in the\\nOnce upon a midnight dreary weak and weary'"
      ]
     },
     "execution_count": 126,
     "metadata": {},
     "output_type": "execute_result"
    }
   ],
   "source": [
    "odd_text"
   ]
  },
  {
   "cell_type": "markdown",
   "metadata": {},
   "source": [
    "Mission accomplished! \n",
    "\n",
    "Let's take that code and add it to our function: "
   ]
  },
  {
   "cell_type": "code",
   "execution_count": 131,
   "metadata": {},
   "outputs": [],
   "source": [
    "def mix_list(list1, list2):\n",
    "    \n",
    "    # create a list of the lists the user inputs into this function\n",
    "    input_lists = [list1, list2]\n",
    "    \n",
    "    # keep these list placeholders outside our enumeration loop\n",
    "    # so that we can add lines to them\n",
    "    odds = []\n",
    "    evens = []\n",
    "    \n",
    "    # iterate through each list, where x represents the list name\n",
    "    for x in input_lists:\n",
    "    \n",
    "        # iterate through each line in our list\n",
    "        # x is still representing list name here\n",
    "        for idx,value in enumerate(x):\n",
    "            if idx % 2 == 0:\n",
    "                evens.append(value)\n",
    "            else:\n",
    "                odds.append(value)\n",
    "                \n",
    "    # concatenate odds and evens lists\n",
    "    mixed_list = odds + evens\n",
    "    \n",
    "    # join together the concatenated lists to remove werid spacing\n",
    "    # and coerce from lists, to a chunk of text\n",
    "    odd_text = ''.join(mixed_list)\n",
    "    \n",
    "    # return the value outside of our code block\n",
    "    # so we can use it downstream\n",
    "    return odd_text"
   ]
  },
  {
   "cell_type": "markdown",
   "metadata": {},
   "source": [
    "Now let's try it to make sure it works: "
   ]
  },
  {
   "cell_type": "code",
   "execution_count": 128,
   "metadata": {},
   "outputs": [
    {
     "data": {
      "text/plain": [
       "'throne of England; there were a king with a large jaw and a queen with\\nthan crystal to the lords of the State preserves of loaves and fishes,\\n\\nSpiritual revelations were conceded to England at that favoured period,\\nblessed birthday, of whom a prophetic private in the Life Guards had\\nmade for the swallowing up of London and Westminster. Even the Cock-lane\\nmessages, as the spirits of this very year last past (supernaturally\\n while I pondered\\r\\nOver many a quaint and curious volume of forgotten lore.There were a king with a large jaw and a queen with a plain face, on the\\na fair face, on the throne of France. In both countries it was clearer\\nthat things in general were settled for ever.\\nIt was the year of Our Lord one thousand seven hundred and seventy-five.\\nas at this. Mrs. Southcott had recently attained her five-and-twentieth\\nheralded the sublime appearance by announcing that arrangements were\\nghost had been laid only a round dozen of years, after rapping out its\\ndeficient in originality) rapped out theirs. Mere messages in the\\nOnce upon a midnight dreary weak and weary'"
      ]
     },
     "execution_count": 128,
     "metadata": {},
     "output_type": "execute_result"
    }
   ],
   "source": [
    "mix_list(tale_15, edgar_lines)"
   ]
  },
  {
   "cell_type": "markdown",
   "metadata": {},
   "source": [
    "If we're going to create a function that reads in text and mixes it with another text, we're going to need another function that will read in any URL. We can just borrow from the code we used above. \n",
    "\n",
    "Don't forget to use the .split(\",\") to convert the string into a list of lines. \n",
    "\n",
    "Try it first, then look at the answer below: "
   ]
  },
  {
   "cell_type": "code",
   "execution_count": null,
   "metadata": {},
   "outputs": [],
   "source": [
    "# create a function to read in a text file from a URL\n"
   ]
  },
  {
   "cell_type": "code",
   "execution_count": 130,
   "metadata": {},
   "outputs": [],
   "source": [
    "def read_url(input_url):\n",
    "    import requests\n",
    "    f = requests.get(input_url)\n",
    "    text = f.text.split(\",\")\n",
    "    return text"
   ]
  },
  {
   "cell_type": "markdown",
   "metadata": {},
   "source": [
    "## Creating a Script\n",
    "Now that we have a function that will mix together two lists, let's turn it into a script.\n",
    "\n",
    "### Python Shebang\n",
    "On Windows, when your file is named with a .py extension, windows knows to use the python interpeter to read the file. \n",
    "\n",
    "On any other operating system, you'll need to use something called a shebang on the very first line of your file to let your OS know which program to use as an interpreter. This holds true for any programming language, not just python. \n",
    "\n",
    "Here's the shebang for python: \n",
    "#!/usr/bin/env python\n",
    "\n",
    "You can safely add a shebang to windows files, it will be ignored. It's good practic to use it, so: \n",
    "1. Open a text editor (I recommend submlie) and create a new file called list_mixer.py\n",
    "2. On the first line of the file, type a shebang\n",
    "3. On the second and third lines of the file, enter two url's to text files you can find online. Name the url1 and url2. \n",
    "4. Add your function for reading in URL's. Can you edit this function to skip the first 1000 lines, which are generally introductory. \n",
    "5. Add your function for mixing together two lists. \n",
    "6. Add code at the end that runs the functions using url1 and url2. \n",
    "7. Print out the first 1000 characters of the result. \n",
    "\n",
    "To run your script, from the command line type: \n",
    "`python list_mixer.py` and make sure it works. \n",
    "\n",
    "See if you can get this working on your own. The answer can be found in Answer Key Jupyter Notebook. "
   ]
  },
  {
   "cell_type": "code",
   "execution_count": null,
   "metadata": {},
   "outputs": [],
   "source": []
  }
 ],
 "metadata": {
  "kernelspec": {
   "display_name": "Python 3",
   "language": "python",
   "name": "python3"
  },
  "language_info": {
   "codemirror_mode": {
    "name": "ipython",
    "version": 3
   },
   "file_extension": ".py",
   "mimetype": "text/x-python",
   "name": "python",
   "nbconvert_exporter": "python",
   "pygments_lexer": "ipython3",
   "version": "3.5.2"
  }
 },
 "nbformat": 4,
 "nbformat_minor": 2
}
