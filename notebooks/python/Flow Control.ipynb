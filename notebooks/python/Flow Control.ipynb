{
 "cells": [
  {
   "cell_type": "markdown",
   "metadata": {},
   "source": [
    "# Flow Control\n",
    "There are three flow control statements in python; if, for and while. We can use these statements in combination with boolean logic to control the actions of our programs. \n",
    "\n",
    "## If Statement\n",
    "The if statement is used to check whether a condition is true. We can then tell our program to do something when a statement evaluates to true: "
   ]
  },
  {
   "cell_type": "code",
   "execution_count": 1,
   "metadata": {},
   "outputs": [
    {
     "name": "stdout",
     "output_type": "stream",
     "text": [
      "Well, hello Steven!\n"
     ]
    }
   ],
   "source": [
    "user_name = \"Steven\"\n",
    "\n",
    "if user_name == \"Steven\":\n",
    "    print(\"Well, hello Steven!\")"
   ]
  },
  {
   "cell_type": "code",
   "execution_count": null,
   "metadata": {},
   "outputs": [],
   "source": [
    "if user_name == \"Steven\":\n",
    "    print(\"Well, hello Steven!\")\n",
    "    "
   ]
  },
  {
   "cell_type": "markdown",
   "metadata": {},
   "source": [
    "We can chain these statements together: "
   ]
  },
  {
   "cell_type": "code",
   "execution_count": 3,
   "metadata": {},
   "outputs": [
    {
     "name": "stdout",
     "output_type": "stream",
     "text": [
      "Well, hello Steven!\n"
     ]
    }
   ],
   "source": [
    "if user_name == \"Steven\":\n",
    "    print(\"Well, hello Steven!\")\n",
    "if user_name == \"Kathy\":\n",
    "    print(\"Hello there, Kathy!\")"
   ]
  },
  {
   "cell_type": "markdown",
   "metadata": {},
   "source": [
    "## Else\n",
    "What if our user's name in the example above isn't Steven? We can use an else statement to tell our program what to do when none of our if statements are true: "
   ]
  },
  {
   "cell_type": "code",
   "execution_count": 2,
   "metadata": {},
   "outputs": [
    {
     "name": "stdout",
     "output_type": "stream",
     "text": [
      "Who the heck are you?!\n"
     ]
    }
   ],
   "source": [
    "user_name = \"Bob\"\n",
    "\n",
    "if user_name == \"Steven\":\n",
    "    print(\"Well, hello Steven!\")\n",
    "else: \n",
    "    print(\"Who the heck are you?!\")"
   ]
  },
  {
   "cell_type": "markdown",
   "metadata": {},
   "source": [
    "## Elif \n",
    "The elif statement allows you to check if multiple conditions are true, and executes as soon as any of them evaluate to true. Using elif is a good choice when you have more than two possible outcomes. "
   ]
  },
  {
   "cell_type": "code",
   "execution_count": 6,
   "metadata": {},
   "outputs": [
    {
     "name": "stdout",
     "output_type": "stream",
     "text": [
      "Your balance is 0 or above.\n"
     ]
    }
   ],
   "source": [
    "balance = 2.00\n",
    "\n",
    "if balance < 0:\n",
    "    print(\"Balance is below 0, add funds now \\\n",
    "          or you will be charged a penalty.\")\n",
    "elif balance == 0:\n",
    "    print(\"Balance is equal to 0, add funds soon.\")\n",
    "else:\n",
    "    print(\"Your balance is 0 or above.\")"
   ]
  }
 ],
 "metadata": {
  "kernelspec": {
   "display_name": "Python 3",
   "language": "python",
   "name": "python3"
  },
  "language_info": {
   "codemirror_mode": {
    "name": "ipython",
    "version": 3
   },
   "file_extension": ".py",
   "mimetype": "text/x-python",
   "name": "python",
   "nbconvert_exporter": "python",
   "pygments_lexer": "ipython3",
   "version": "3.6.5"
  }
 },
 "nbformat": 4,
 "nbformat_minor": 2
}
