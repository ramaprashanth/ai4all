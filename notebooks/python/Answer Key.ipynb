{
 "cells": [
  {
   "cell_type": "code",
   "execution_count": 8,
   "metadata": {},
   "outputs": [
    {
     "data": {
      "text/plain": [
       "' bird or fiend!\\' I shrieked no less than a jest\\'s prosperity accept the poet\\'s mood: this is what the sages answer when you ask them of its value. Even though\\r\\nthe poet himself tell you that his art is but sleight\\r\\nof hand and offer to show you the trick of\\r\\nit his joy or pain. \"We are in Love\\'s hand to-day!\" sings\\r\\nGautier--and from morn to sunset we are\\r\\nwafted on the violent sea: there is but one love one flowery\\r\\nstrand. Love is eternal the scene changes; but we have gained something so many charms. There is the charm of Evanescence and\\r\\nyou have this to the full.\\r\\n\\r\\nAnd now take the hand of a new-world minstrel as Baudelaire saw hither and thither\" and\\r\\nwhere \"his interior life spiritual even as a\\r\\ndrunkard and share with him the clime in which he\\r\\nfound always in the night at least a place of refuge from the bounds in which\\r\\nby day he was immured.\\r\\n\\r\\nTo one land only he has power to lead you\" out\\r\\nof Space through whose eyes the soul finds windows though the mind is dazed;\\r\\nhere '"
      ]
     },
     "execution_count": 8,
     "metadata": {},
     "output_type": "execute_result"
    }
   ],
   "source": [
    "#!/usr/bin/env python\n",
    "\n",
    "'''\n",
    "This script takes two url's for text files as input and \n",
    "mixes them together to make a new script.\n",
    "'''\n",
    "\n",
    "url1 = \"http://www.gutenberg.org/cache/epub/17192/pg17192.txt\"\n",
    "url2 = \"https://www.gutenberg.org/files/84/84-h/84-h.htm\"\n",
    "\n",
    "# read in a URL\n",
    "def read_url(input_url):\n",
    "    import requests\n",
    "    f = requests.get(input_url)\n",
    "    # added list slicing to skip first 5000 character\n",
    "    text = f.text[5000:].split(\",\")\n",
    "    return text\n",
    "\n",
    "# mix together two lists\n",
    "def mix_list(list1, list2):\n",
    "    \n",
    "    # create a list of the lists the user inputs into this function\n",
    "    input_lists = [list1, list2]\n",
    "    \n",
    "    # keep these list placeholders outside our enumeration loop\n",
    "    # so that we can add lines to them\n",
    "    odds = []\n",
    "    evens = []\n",
    "    \n",
    "    # iterate through each list, where x represents the list name\n",
    "    for x in input_lists:\n",
    "    \n",
    "        # iterate through each line in our list\n",
    "        # x is still representing list name here\n",
    "        for idx,value in enumerate(x):\n",
    "            if idx % 2 == 0:\n",
    "                evens.append(value)\n",
    "            else:\n",
    "                odds.append(value)\n",
    "                \n",
    "    # concatenate odds and evens lists\n",
    "    mixed_list = odds + evens\n",
    "    \n",
    "    # join together the concatenated lists to remove werid spacing\n",
    "    # and coerce from lists, to a chunk of text\n",
    "    odd_text = ''.join(mixed_list)\n",
    "    \n",
    "    # return the value outside of our code block\n",
    "    # so we can use it downstream\n",
    "    return odd_text\n",
    "\n",
    "# read in our urls and covner to lists\n",
    "list1 = read_url(url1)\n",
    "list2 = read_url(url2)\n",
    "\n",
    "# mix together the url lists\n",
    "our_text = mix_list(list1, list2)\n",
    "\n",
    "# print out first 1000 characters\n",
    "our_text[0:1000]"
   ]
  }
 ],
 "metadata": {
  "kernelspec": {
   "display_name": "Python 3",
   "language": "python",
   "name": "python3"
  },
  "language_info": {
   "codemirror_mode": {
    "name": "ipython",
    "version": 3
   },
   "file_extension": ".py",
   "mimetype": "text/x-python",
   "name": "python",
   "nbconvert_exporter": "python",
   "pygments_lexer": "ipython3",
   "version": "3.5.2"
  }
 },
 "nbformat": 4,
 "nbformat_minor": 2
}
