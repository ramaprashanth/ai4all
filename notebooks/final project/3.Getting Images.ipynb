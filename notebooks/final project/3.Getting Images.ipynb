{
 "cells": [
  {
   "cell_type": "markdown",
   "metadata": {},
   "source": [
    "# Getting Images\n",
    "\n",
    "With digital images or videos computers can be made to gain high-level understanding from digital images or videos and this is where Computer Vision comes into play.\n",
    "\n",
    "Computer Vision, often abbreviated as CV, is defined as a field of study that seeks to develop techniques to help computers “see” and understand the content of digital images such as photographs and videos.\n",
    "\n",
    "The problem of computer vision appears simple because it is trivially solved by people, even very young children. Nevertheless, it largely remains an unsolved problem based both on the limited understanding of biological vision and because of the complexity of vision perception in a dynamic and nearly infinitely varying physical world.\n"
   ]
  },
  {
   "cell_type": "markdown",
   "metadata": {},
   "source": [
    "### Computer Vision\n",
    "\n",
    "We are awash in images.\n",
    "\n",
    "Smartphones have cameras, and taking a photo or video and sharing it has never been easier, resulting in the incredible growth of modern social networks like Instagram.\n",
    "\n",
    "YouTube might be the second largest search engine and hundreds of hours of video are uploaded every minute and billions of videos are watched every day.\n",
    "\n",
    "The internet is comprised of text and images. It is relatively straightforward to index and search text, but in order to index and search images, algorithms need to know what the images contain. For the longest time, the content of images and video has remained opaque, best described using the meta descriptions provided by the person that uploaded them.\n",
    "\n",
    "To get the most out of image data, we need computers to “see” an image and understand the content.\n",
    "\n",
    "This is a trivial problem for any human being.\n",
    "\n",
    "    * A person can describe the content of a photograph they have seen once.\n",
    "    * A person can summarize a video that they have only seen once.\n",
    "    * A person can recognize a face that they have only seen once before.\n",
    "\n",
    "\n",
    "Computer vision is a field of study focused on the problem of helping computers to see. At an abstract level, the goal of computer vision problems is to use the observed image data to infer something about the world."
   ]
  },
  {
   "cell_type": "markdown",
   "metadata": {},
   "source": [
    "<img src=\"./images/Computer-Vision.png\">"
   ]
  },
  {
   "cell_type": "markdown",
   "metadata": {},
   "source": [
    "### OpenCV\n",
    "\n",
    "`OpenCV` is a library of programming functions mainly aimed at real-time computer vision. In addition to OpenCV, we will find ourselves use the following libraries in abundance as well. `Matplotlib` is an optional choice for displaying frames from video or images. We will show a couple of examples using it here. `Numpy` is used for all things \"numbers and Python.\"\n",
    "\n",
    "\n",
    "Lets go through few basic CV concepts.\n",
    "\n",
    "`cv2.waitkey(0)` is given so that everytime an image window popsup, just press any key to close the window and the program."
   ]
  },
  {
   "cell_type": "markdown",
   "metadata": {},
   "source": [
    "#### Reading an image\n",
    "\n",
    "To read the original image, simply call the `imread` function of the cv2 module, passing as input the path to the image, as a string.\n",
    "\n",
    "Run the following code which will read the image and open it in OpenCV as a popup window."
   ]
  },
  {
   "cell_type": "code",
   "execution_count": 1,
   "metadata": {},
   "outputs": [],
   "source": [
    "# import sys\n",
    "# sys.path.remove('/opt/ros/kinetic/lib/python2.7/dist-packages')\n",
    "\n",
    "import cv2\n",
    "\n",
    "img = cv2.imread('./images/lenna.png')\n",
    "cv2.imshow('image',img)\n",
    "cv2.waitKey(0)"
   ]
  },
  {
   "cell_type": "markdown",
   "metadata": {},
   "source": [
    "#### Converting an image to GrayScale\n",
    "\n",
    "Converting images to GrayScale will convert images from values of type RGB (Red,Blue & Green) to W/B (White/Black) which makes processing tasks like finding edges, contours, etc. much easier.\n",
    "\n",
    "For this, we need to call the `cvtColor` function, which allows to convert the image from a color space to another.\n",
    "\n",
    "As first input, this function receives the original image. As second input, it receives the color space conversion code. Since we want to convert our original image from the BGR color space to gray, we use the code `COLOR_BGR2GRAY`."
   ]
  },
  {
   "cell_type": "code",
   "execution_count": 2,
   "metadata": {},
   "outputs": [],
   "source": [
    "# import sys\n",
    "# sys.path.remove('/opt/ros/kinetic/lib/python2.7/dist-packages')\n",
    "\n",
    "import cv2\n",
    "  \n",
    "img = cv2.imread('./images/lenna.png')\n",
    "gray = cv2.cvtColor(img, cv2.COLOR_BGR2GRAY)\n",
    "  \n",
    "# cv2.imshow('Original image',image)\n",
    "cv2.imshow('Gray image', gray)\n",
    "cv2.waitKey(0)"
   ]
  },
  {
   "cell_type": "markdown",
   "metadata": {},
   "source": [
    "### Getting Image from NAO\n",
    "\n",
    "On the same note, once we get the image stream from NAO we will be able to process it and make sense of it."
   ]
  }
 ],
 "metadata": {
  "kernelspec": {
   "display_name": "Python 2",
   "language": "python",
   "name": "python2"
  },
  "language_info": {
   "codemirror_mode": {
    "name": "ipython",
    "version": 2
   },
   "file_extension": ".py",
   "mimetype": "text/x-python",
   "name": "python",
   "nbconvert_exporter": "python",
   "pygments_lexer": "ipython2",
   "version": "2.7.12"
  }
 },
 "nbformat": 4,
 "nbformat_minor": 2
}
