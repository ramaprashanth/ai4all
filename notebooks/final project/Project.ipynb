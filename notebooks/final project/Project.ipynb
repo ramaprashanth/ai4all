{
 "cells": [
  {
   "cell_type": "markdown",
   "metadata": {},
   "source": [
     "# Data Set Collection\n",
     "\n",
     "1. In `get_image.py` replace NAO_IP with your NAO's IP which can be obtained by pressing NAO's power button in the front once.",
     "\n",
     "2. Run `python get_image.py` in your terminal and NAO's camera will pop up.",
     "\n",
     "3. For recording left hand image data, position your left hand in the center of the camera and press `c` key which will save each image to /data/ folder.",
     "\n",
     "4. Now move the each set of images from /data/ to their corresponding folders in /data/train/left/ and /data/test/left/ depending on the number of training and testing samples you want.",
     "\n",
     "5. Repeat the same for right hand and move the images to /data/train/right/ and /data/test/right/",
     "\n",
     "\n",
     "# Train/Test Data\n",
     "Run `train.py` to train and test the data collected.",   
   ]
  },
  {
   "cell_type": "code",
   "execution_count": null,
   "metadata": {},
   "outputs": [],
   "source": []
  },
  {
   "cell_type": "code",
   "execution_count": null,
   "metadata": {},
   "outputs": [],
   "source": []
  }
 ],
 "metadata": {
  "kernelspec": {
   "display_name": "Python 3",
   "language": "python",
   "name": "python3"
  },
  "language_info": {
   "codemirror_mode": {
    "name": "ipython",
    "version": 3
   },
   "file_extension": ".py",
   "mimetype": "text/x-python",
   "name": "python",
   "nbconvert_exporter": "python",
   "pygments_lexer": "ipython3",
   "version": "3.7.2"
  }
 },
 "nbformat": 4,
 "nbformat_minor": 2
}
