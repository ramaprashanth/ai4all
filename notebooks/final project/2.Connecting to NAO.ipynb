{
 "cells": [
  {
   "cell_type": "markdown",
   "metadata": {},
   "source": [
    "# Connecting to NAO\n",
    "\n",
    "NAO is an autonomous, programmable humanoid robot developed by Aldebaran Robotics, a French robotics company. NAO is the world's leading and most widely used humanoid robot for education, healthcare, and research. NAO is 58cm tall, autonomous, and fully programmable robot that can walk, talk, listen to you, and even recognise your face. NAO has advanced platforms for the in-depth study such as human-machine interaction, cognitive computing and autonomous navigation, etc.\n",
    "\n",
    "First step of working with the NAO robot involves connecting to it through the internet which can be done either via an ethernet cable or a WiFi connection. However, for convenience we will be connecting to NAO via the WiFi which requires both the NAO and our computer(from which we will be executing the commands) to be on the same network. "
   ]
  },
  {
   "cell_type": "markdown",
   "metadata": {},
   "source": [
    "### Power ON \n",
    "\n",
    "Plug in the power cable behind the NAO and press the Power button in the chest for 3 seconds and wait for a couple of minutes for the NAO to boot up."
   ]
  },
  {
   "cell_type": "markdown",
   "metadata": {},
   "source": [
    "<img src=\"./images/wiz_step3.png\"/>"
   ]
  },
  {
   "cell_type": "markdown",
   "metadata": {},
   "source": [
    "<img src=\"./images/power-on.png\"/>"
   ]
  },
  {
   "cell_type": "markdown",
   "metadata": {},
   "source": [
    "### Getting NAO's IP\n",
    "\n",
    "After NAO's up it will announce 'OGNAK GNUK'. Now you can press the Power button on the chest once to make NAO announce its IP. We will be using this IP to connect to the NAO. \n",
    "\n",
    "NOTE: NOA's IP might everytime it boots up to connect to the network. Hence, its good practice to verify NAO's IP every time it boots up."
   ]
  },
  {
   "cell_type": "markdown",
   "metadata": {},
   "source": [
    "<img src=\"./images/note_ipaddress.png\">"
   ]
  },
  {
   "cell_type": "markdown",
   "metadata": {},
   "source": [
    "### Verifying NAO's IP\n",
    "\n",
    "You can also verify the NAO's IP by entering the IP in your browser when you are connected to the same network as NAO and you will get a page with popup asking your authentication as below.\n"
   ]
  },
  {
   "cell_type": "markdown",
   "metadata": {},
   "source": [
    "<img src=\"./images/verify-ip.png\">"
   ]
  },
  {
   "cell_type": "markdown",
   "metadata": {},
   "source": [
    "### Changing NAO's WiFi Connection\n",
    "\n",
    "In case you want to change the network NAO is connected, you can login in this page with the authentication credentials that will be provided in the back of your NAO.\n",
    "\n",
    "After successfull login, you can proceed to change the WiFi connection under Network Setup section.\n"
   ]
  },
  {
   "cell_type": "markdown",
   "metadata": {},
   "source": [
    "<img src=\"./images/nao-wifi.png\">"
   ]
  },
  {
   "cell_type": "markdown",
   "metadata": {},
   "source": [
    "### Hello World on NAO\n",
    " \n",
    "To run our first script on NAO, we can make NAO say 'Hello World!'\n",
    "\n",
    "But first, make sure you have NAOqi python package installed on your system which will let us write python script to run and interact with NAO.\n",
    "\n",
    "In the below code snippet, change <NAO_IP> to your NAO's ip. For example, if your NAO's IP is 192.168.1.7 then change the second line of the code snippet so that it looks like below and run it. Your NAO should now say 'Hello world'.\n",
    "\n",
    "```\n",
    "tts = ALProxy(\"ALTextToSpeech\", \"192.168.1.7\", 9559)\n",
    "```"
   ]
  },
  {
   "cell_type": "code",
   "execution_count": null,
   "metadata": {},
   "outputs": [],
   "source": [
    "from naoqi import ALProxy\n",
    "tts = ALProxy(\"ALTextToSpeech\", \"<NAO_IP>\", 9559)\n",
    "tts.say(\"Hello, world!\")"
   ]
  },
  {
   "cell_type": "markdown",
   "metadata": {},
   "source": [
    "Feeling lucky? Try changing the text from \"Hello, world!\" to anything you like and make NOA announce it.\n",
    "\n",
    "Congratulations, you have now successfully run your first python script on NAO."
   ]
  }
 ],
 "metadata": {
  "kernelspec": {
   "display_name": "Python 3",
   "language": "python",
   "name": "python3"
  },
  "language_info": {
   "codemirror_mode": {
    "name": "ipython",
    "version": 3
   },
   "file_extension": ".py",
   "mimetype": "text/x-python",
   "name": "python",
   "nbconvert_exporter": "python",
   "pygments_lexer": "ipython3",
   "version": "3.5.2"
  }
 },
 "nbformat": 4,
 "nbformat_minor": 2
}
