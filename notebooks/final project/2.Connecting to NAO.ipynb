{
 "cells": [
  {
   "cell_type": "markdown",
   "metadata": {},
   "source": [
    "# Connecting to NAO\n",
    "\n",
    "NAO is an autonomous, programmable humanoid robot developed by Aldebaran Robotics, a French robotics company. NAO is the world's leading and most widely used humanoid robot for education, healthcare, and research. NAO is 58cm tall, autonomous, and fully programmable robot that can walk, talk, listen to you, and even recognise your face. NAO has advanced platforms for the in-depth study such as human-machine interaction, cognitive computing and autonomous navigation, etc.\n",
    "\n",
    "First step of working with the NAO robot involves connecting to it through the internet which can be done either via an ethernet cable or a WiFi connection. However, for convenience we will be connecting to NAO via the WiFi which requires both the NAO and our computer(from which we will be executing the commands) to be on the same network. "
   ]
  },
  {
   "cell_type": "markdown",
   "metadata": {},
   "source": [
    "### Power ON \n",
    "\n",
    "Plug in the power cable behind the NAO and press the Power button in the chest for 3 seconds and wait for a couple of minutes for the NAO to boot up."
   ]
  },
  {
   "cell_type": "markdown",
   "metadata": {},
   "source": [
    "<img src=\"./images/wiz_step3.png\"/>"
   ]
  },
  {
   "cell_type": "markdown",
   "metadata": {},
   "source": [
    "<img src=\"./images/power-on.png\"/>"
   ]
  },
  {
   "cell_type": "markdown",
   "metadata": {},
   "source": [
    "### Getting NAO's IP\n",
    "\n",
    "After NAO's up it will announce 'OGNAK GNUK'. Now you can press the Power button on the chest once to make NAO announce its IP. We will be using this IP to connect to the NAO. \n",
    "\n",
    "NOTE: NOA's IP might everytime it boots up to connect to the network. Hence, its good practice to verify NAO's IP every time it boots up."
   ]
  },
  {
   "cell_type": "markdown",
   "metadata": {},
   "source": [
    "<img src=\"./images/note_ipaddress.png\">"
   ]
  },
  {
   "cell_type": "markdown",
   "metadata": {},
   "source": [
    "### Verifying NAO's IP\n",
    "\n",
    "You can also verify the NAO's IP by entering the IP in your browser when you are connected to the same network as NAO and you will get a page with popup asking your authentication as below.\n"
   ]
  },
  {
   "cell_type": "markdown",
   "metadata": {},
   "source": [
    "<img src=\"./images/verify-ip.png\">"
   ]
  },
  {
   "cell_type": "markdown",
   "metadata": {},
   "source": [
    "### Changing NAO's WiFi Connection\n",
    "\n",
    "In case you want to change the network NAO is connected, you can login in this page with the authentication credentials that will be provided in the back of your NAO.\n",
    "\n",
    "After successfull login, you can proceed to change the WiFi connection under Network Setup section.\n"
   ]
  },
  {
   "cell_type": "markdown",
   "metadata": {},
   "source": [
    "<img src=\"./images/nao-wifi.png\">"
   ]
  },
  {
   "cell_type": "markdown",
   "metadata": {},
   "source": [
    "### Making NAO Speak\n",
    " \n",
    "To run our first script on NAO, we can make NAO say 'Hello World!'\n",
    "\n",
    "But first, make sure you have NAOqi python package installed on your system which will let us write python script to run and interact with NAO.\n",
    "\n",
    "In the below code snippet, change `<NAO_IP>` to your NAO's IP and `<YOUR_NAME>` to your name, Duh!. \n",
    "\n",
    "For example, if your NAO's IP is 192.168.1.7 then change the second line of the code snippet so that it looks like below and run it. Your NAO should now say 'Hello world'.\n",
    "\n",
    "```\n",
    "tts = ALProxy(\"ALTextToSpeech\", \"192.168.1.7\", 9559)\n",
    "```\n",
    "\n",
    "and if your name is 'Tom Cruise' then\n",
    "```\n",
    "tts.say(\"Hello, Tom Cruise!\")\n",
    "```\n"
   ]
  },
  {
   "cell_type": "code",
   "execution_count": 1,
   "metadata": {},
   "outputs": [
    {
     "ename": "RuntimeError",
     "evalue": "\tALBroker::createBroker\n\tCannot connect to tcp://<NAO_IP>:9559",
     "output_type": "error",
     "traceback": [
      "\u001b[0;31m---------------------------------------------------------------------------\u001b[0m",
      "\u001b[0;31mRuntimeError\u001b[0m                              Traceback (most recent call last)",
      "\u001b[0;32m<ipython-input-1-41ba43b0da59>\u001b[0m in \u001b[0;36m<module>\u001b[0;34m()\u001b[0m\n\u001b[1;32m      2\u001b[0m \u001b[0;34m\u001b[0m\u001b[0m\n\u001b[1;32m      3\u001b[0m \u001b[0;31m#tts = ALProxy(\"ALTextToSpeech\", \"192.168.1.7\", 9559)\u001b[0m\u001b[0;34m\u001b[0m\u001b[0;34m\u001b[0m\u001b[0m\n\u001b[0;32m----> 4\u001b[0;31m \u001b[0mtts\u001b[0m \u001b[0;34m=\u001b[0m \u001b[0mALProxy\u001b[0m\u001b[0;34m(\u001b[0m\u001b[0;34m\"ALTextToSpeech\"\u001b[0m\u001b[0;34m,\u001b[0m \u001b[0;34m\"<NAO_IP>\"\u001b[0m\u001b[0;34m,\u001b[0m \u001b[0;36m9559\u001b[0m\u001b[0;34m)\u001b[0m\u001b[0;34m\u001b[0m\u001b[0m\n\u001b[0m\u001b[1;32m      5\u001b[0m \u001b[0mtts\u001b[0m\u001b[0;34m.\u001b[0m\u001b[0msay\u001b[0m\u001b[0;34m(\u001b[0m\u001b[0;34m\"Hello, <YOUR_NAME>!\"\u001b[0m\u001b[0;34m)\u001b[0m\u001b[0;34m\u001b[0m\u001b[0m\n",
      "\u001b[0;32m/home/rama/.pynaoqi/pynaoqi-python2.7-2.8.5.10-linux64-20181203_200915/lib/python2.7/site-packages/naoqi.pyc\u001b[0m in \u001b[0;36m__init__\u001b[0;34m(self, *args)\u001b[0m\n\u001b[1;32m    235\u001b[0m             \u001b[0minaoqi\u001b[0m\u001b[0;34m.\u001b[0m\u001b[0mproxy\u001b[0m\u001b[0;34m.\u001b[0m\u001b[0m__init__\u001b[0m\u001b[0;34m(\u001b[0m\u001b[0mself\u001b[0m\u001b[0;34m,\u001b[0m \u001b[0margs\u001b[0m\u001b[0;34m[\u001b[0m\u001b[0;36m0\u001b[0m\u001b[0;34m]\u001b[0m\u001b[0;34m,\u001b[0m  \u001b[0margs\u001b[0m\u001b[0;34m[\u001b[0m\u001b[0;36m1\u001b[0m\u001b[0;34m]\u001b[0m\u001b[0;34m)\u001b[0m\u001b[0;34m\u001b[0m\u001b[0m\n\u001b[1;32m    236\u001b[0m         \u001b[0;32melse\u001b[0m\u001b[0;34m:\u001b[0m\u001b[0;34m\u001b[0m\u001b[0m\n\u001b[0;32m--> 237\u001b[0;31m             \u001b[0minaoqi\u001b[0m\u001b[0;34m.\u001b[0m\u001b[0mproxy\u001b[0m\u001b[0;34m.\u001b[0m\u001b[0m__init__\u001b[0m\u001b[0;34m(\u001b[0m\u001b[0mself\u001b[0m\u001b[0;34m,\u001b[0m \u001b[0margs\u001b[0m\u001b[0;34m[\u001b[0m\u001b[0;36m0\u001b[0m\u001b[0;34m]\u001b[0m\u001b[0;34m,\u001b[0m \u001b[0margs\u001b[0m\u001b[0;34m[\u001b[0m\u001b[0;36m1\u001b[0m\u001b[0;34m]\u001b[0m\u001b[0;34m,\u001b[0m \u001b[0margs\u001b[0m\u001b[0;34m[\u001b[0m\u001b[0;36m2\u001b[0m\u001b[0;34m]\u001b[0m\u001b[0;34m)\u001b[0m\u001b[0;34m\u001b[0m\u001b[0m\n\u001b[0m\u001b[1;32m    238\u001b[0m \u001b[0;34m\u001b[0m\u001b[0m\n\u001b[1;32m    239\u001b[0m     \u001b[0;32mdef\u001b[0m \u001b[0mcall\u001b[0m\u001b[0;34m(\u001b[0m\u001b[0mself\u001b[0m\u001b[0;34m,\u001b[0m \u001b[0;34m*\u001b[0m\u001b[0margs\u001b[0m\u001b[0;34m)\u001b[0m\u001b[0;34m:\u001b[0m\u001b[0;34m\u001b[0m\u001b[0m\n",
      "\u001b[0;32m/home/rama/.pynaoqi/pynaoqi-python2.7-2.8.5.10-linux64-20181203_200915/lib/python2.7/site-packages/inaoqi.pyc\u001b[0m in \u001b[0;36m__init__\u001b[0;34m(self, *args)\u001b[0m\n\u001b[1;32m    462\u001b[0m \u001b[0;34m\u001b[0m\u001b[0m\n\u001b[1;32m    463\u001b[0m     \u001b[0;32mdef\u001b[0m \u001b[0m__init__\u001b[0m\u001b[0;34m(\u001b[0m\u001b[0mself\u001b[0m\u001b[0;34m,\u001b[0m \u001b[0;34m*\u001b[0m\u001b[0margs\u001b[0m\u001b[0;34m)\u001b[0m\u001b[0;34m:\u001b[0m\u001b[0;34m\u001b[0m\u001b[0m\n\u001b[0;32m--> 464\u001b[0;31m         \u001b[0mthis\u001b[0m \u001b[0;34m=\u001b[0m \u001b[0m_inaoqi\u001b[0m\u001b[0;34m.\u001b[0m\u001b[0mnew_proxy\u001b[0m\u001b[0;34m(\u001b[0m\u001b[0;34m*\u001b[0m\u001b[0margs\u001b[0m\u001b[0;34m)\u001b[0m\u001b[0;34m\u001b[0m\u001b[0m\n\u001b[0m\u001b[1;32m    465\u001b[0m         \u001b[0;32mtry\u001b[0m\u001b[0;34m:\u001b[0m\u001b[0;34m\u001b[0m\u001b[0m\n\u001b[1;32m    466\u001b[0m             \u001b[0mself\u001b[0m\u001b[0;34m.\u001b[0m\u001b[0mthis\u001b[0m\u001b[0;34m.\u001b[0m\u001b[0mappend\u001b[0m\u001b[0;34m(\u001b[0m\u001b[0mthis\u001b[0m\u001b[0;34m)\u001b[0m\u001b[0;34m\u001b[0m\u001b[0m\n",
      "\u001b[0;31mRuntimeError\u001b[0m: \tALBroker::createBroker\n\tCannot connect to tcp://<NAO_IP>:9559"
     ]
    }
   ],
   "source": [
    "from naoqi import ALProxy\n",
    "\n",
    "#tts = ALProxy(\"ALTextToSpeech\", \"192.168.1.7\", 9559)\n",
    "tts = ALProxy(\"ALTextToSpeech\", \"<NAO_IP>\", 9559)\n",
    "tts.say(\"Hello, <YOUR_NAME>!\")"
   ]
  },
  {
   "cell_type": "markdown",
   "metadata": {},
   "source": [
    "Feeling lucky? Try changing the text from \"Hello, world!\" to anything you like and make NOA announce it.\n",
    "\n",
    "Congratulations, you have now successfully run your first python script on NAO."
   ]
  },
  {
   "cell_type": "markdown",
   "metadata": {},
   "source": [
    "### How it Works\n",
    "\n",
    "The above script uses the say method of the `ALTextToSpeech` module. `ALTextToSpeech` is the module of NAoqi dedicated to speech. The say method makes the robot pronounce the string given in parameter.\n",
    "\n",
    "`from naoqi import ALProxy` \n",
    "\n",
    "This line imports the module ALProxy.\n",
    "\n",
    "\n",
    "`tts = ALProxy(\"ALTextToSpeech\", \"<NAO_IP>\", 9559)`\n",
    "\n",
    "This line creates an object called tts. This object will send calls to NAOqi.\n",
    "\n",
    "    * tts is the name we gave to the object instance (could have been myspeechmodule or speakingmodule).\n",
    "    * ALProxy() is a class of objects, allowing you to have acces to all the methods of a module.\n",
    "    * ALTextToSpeech is the name of the module of NAOqi we want to use.\n",
    "    * IP and Port (9559) of the robot are also specified (it was not the case with Choregraphe).\n",
    "\n",
    "\n",
    "`tts.say(\"Hello, world!\")`\n",
    "\n",
    "This line uses the object tts to send an instruction to the NAOqi module.\n",
    "\n",
    "    * tts is the object we use.\n",
    "    * say() is the method.\n",
    "    * “Hello, world!” is the parameter.\n",
    "\n"
   ]
  },
  {
   "cell_type": "markdown",
   "metadata": {},
   "source": [
    "### Making NAO Move\n",
    "\n",
    "To make NAO walk, you should use `ALMotionProxy::moveInit()` (to put the robot in a correct position), and then `ALMotionProxy::moveTo()`\n",
    "\n",
    "Run the below snippet to make NAO walk 0.5 meters forward. Oh and clear a path!"
   ]
  },
  {
   "cell_type": "code",
   "execution_count": null,
   "metadata": {},
   "outputs": [],
   "source": [
    "from naoqi import ALProxy\n",
    "\n",
    "#motion = ALProxy(\"ALMotion\", \"192.168.1.7\", 9559)\n",
    "motion = ALProxy(\"ALMotion\", \"<NAO_IP>\", 9559)\n",
    "motion.moveInit()\n",
    "motion.moveTo(0.5, 0, 0)"
   ]
  },
  {
   "cell_type": "markdown",
   "metadata": {},
   "source": [
    "The function `ALMotionProxy::moveTo(x,y,theta)` makes the robot move to the given pose in the ground plane, relative to current position of the robot. This is a blocking call.\n",
    "\n",
    "Parameters:\t\n",
    "\n",
    "    x – Distance along the X axis in meters.\n",
    "    y – Distance along the Y axis in meters.\n",
    "    theta – Rotation around the Z axis in radians [-3.1415 to 3.1415].\n"
   ]
  },
  {
   "cell_type": "markdown",
   "metadata": {},
   "source": [
    "### Parallel Tasks\n",
    "\n",
    "You can make your NAO do several things at a time. Now lets make NAO move and speak at the same time.\n",
    "\n"
   ]
  },
  {
   "cell_type": "code",
   "execution_count": null,
   "metadata": {},
   "outputs": [],
   "source": [
    "from naoqi import ALProxy\n",
    "\n",
    "#motion = ALProxy(\"ALMotion\", \"192.168.1.7\", 9559)\n",
    "#tts    = ALProxy(\"ALTextToSpeech\", \"192.168.1.7\", 9559)\n",
    "motion = ALProxy(\"ALMotion\", \"<NAO_IP>\", 9559)\n",
    "tts    = ALProxy(\"ALTextToSpeech\", \"<NAO_IP>\", 9559)\n",
    "motion.moveInit()\n",
    "motion.post.moveTo(0.5, 0, 0)\n",
    "tts.say(\"I'm walking\")"
   ]
  },
  {
   "cell_type": "markdown",
   "metadata": {},
   "source": [
    "If you need to wait until a given task is finished, you can use the wait method of ALProxy, using the ID of the tasked returned by the post usage like below."
   ]
  },
  {
   "cell_type": "code",
   "execution_count": null,
   "metadata": {},
   "outputs": [],
   "source": [
    "from naoqi import ALProxy\n",
    "\n",
    "#motion = ALProxy(\"ALMotion\", \"192.168.1.7\", 9559)\n",
    "#tts    = ALProxy(\"ALTextToSpeech\", \"192.168.1.7\", 9559)\n",
    "motion = ALProxy(\"ALMotion\", \"<NAO_IP>\", 9559)\n",
    "tts    = ALProxy(\"ALTextToSpeech\", \"<NAO_IP>\", 9559)\n",
    "motion.moveInit()\n",
    "id = motion.post.moveTo(0.5, 0, 0)\n",
    "motion.wait(id, 0)\n",
    "tts.say(\"I have arrived\")"
   ]
  },
  {
   "cell_type": "markdown",
   "metadata": {},
   "source": [
    "NOTE: Also, some tasks will enforce NAO's joints to be stiff and the robot will not move unless you set the stiffness of the joints to something that is not 0."
   ]
  },
  {
   "cell_type": "code",
   "execution_count": null,
   "metadata": {},
   "outputs": [],
   "source": [
    "from naoqi import ALProxy\n",
    "\n",
    "#motion = ALProxy(\"ALMotion\", \"192.168.1.7\", 9559)\n",
    "motion = ALProxy(\"ALMotion\", \"<NAO_IP>\", 9559)\n",
    "motion.setStiffnesses(\"Body\", 1.0)"
   ]
  },
  {
   "cell_type": "markdown",
   "metadata": {},
   "source": [
    "### Reacting to Events\n",
    "\n",
    "Here we want the robot say ‘I see you’ every time it detects a human face.To do this, we need to subscribe to the ‘FaceDetected’ event, raised by the ALFacedetection module. The `FaceDetected` event triggers every time the NAO sees a face. You can try covering your face, it will not announce.\n",
    "\n",
    "Replace `<NAO_IP>` with your NAO's IP.\n",
    " \n",
    "You can run the script below, which will run an infinite loop that will keep anouncing as long as it keeps detecting faces. You can stop it by pressing the Stop button in Jupyter Notebook.\n"
   ]
  },
  {
   "cell_type": "code",
   "execution_count": null,
   "metadata": {},
   "outputs": [],
   "source": [
    "import sys\n",
    "import time\n",
    "\n",
    "from naoqi import ALProxy\n",
    "from naoqi import ALBroker\n",
    "from naoqi import ALModule\n",
    "\n",
    "from optparse import OptionParser\n",
    "\n",
    "#NAO_IP = \"192.168.1.7\"\n",
    "NAO_IP = \"<NAO_IP>\"\n",
    "\n",
    "# Global variable to store the HumanGreeter module instance\n",
    "HumanGreeter = None\n",
    "memory = None\n",
    "\n",
    "\n",
    "class HumanGreeterModule(ALModule):\n",
    "    \"\"\" A simple module able to react\n",
    "    to facedetection events\n",
    "\n",
    "    \"\"\"\n",
    "    def __init__(self, name):\n",
    "        ALModule.__init__(self, name)\n",
    "        # No need for IP and port here because\n",
    "        # we have our Python broker connected to NAOqi broker\n",
    "\n",
    "        # Create a proxy to ALTextToSpeech for later use\n",
    "        self.tts = ALProxy(\"ALTextToSpeech\")\n",
    "\n",
    "        # Subscribe to the FaceDetected event:\n",
    "        global memory\n",
    "        memory = ALProxy(\"ALMemory\")\n",
    "        memory.subscribeToEvent(\"FaceDetected\",\n",
    "            \"HumanGreeter\",\n",
    "            \"onFaceDetected\")\n",
    "\n",
    "    def onFaceDetected(self, *_args):\n",
    "        \"\"\" This will be called each time a face is\n",
    "        detected.\n",
    "\n",
    "        \"\"\"\n",
    "        # Unsubscribe to the event when talking,\n",
    "        # to avoid repetitions\n",
    "        memory.unsubscribeToEvent(\"FaceDetected\",\n",
    "            \"HumanGreeter\")\n",
    "\n",
    "        self.tts.say(\"I see you!\")\n",
    "\n",
    "        # Subscribe again to the event\n",
    "        memory.subscribeToEvent(\"FaceDetected\",\n",
    "            \"HumanGreeter\",\n",
    "            \"onFaceDetected\")\n",
    "        \n",
    "    \n",
    "if __name__ == \"__main__\":\n",
    "    myBroker = ALBroker(\"myBroker\",\n",
    "       \"0.0.0.0\",   # listen to anyone\n",
    "       0,           # find a free port and use it\n",
    "       NAO_IP,         # parent broker IP\n",
    "       9559)       # parent broker port\n",
    "\n",
    "\n",
    "    # Warning: HumanGreeter must be a global variable\n",
    "    # The name given to the constructor must be the name of the\n",
    "    # variable\n",
    "    global HumanGreeter\n",
    "    HumanGreeter = HumanGreeterModule(\"HumanGreeter\")\n",
    "\n",
    "    try:\n",
    "        while True:\n",
    "            time.sleep(1)\n",
    "    except KeyboardInterrupt:\n",
    "        print\n",
    "        print \"Interrupted by user, shutting down\"\n",
    "        myBroker.shutdown()\n",
    "        sys.exit(0)"
   ]
  }
 ],
 "metadata": {
  "kernelspec": {
   "display_name": "Python 2",
   "language": "python",
   "name": "python2"
  },
  "language_info": {
   "codemirror_mode": {
    "name": "ipython",
    "version": 2
   },
   "file_extension": ".py",
   "mimetype": "text/x-python",
   "name": "python",
   "nbconvert_exporter": "python",
   "pygments_lexer": "ipython2",
   "version": "2.7.12"
  }
 },
 "nbformat": 4,
 "nbformat_minor": 2
}
